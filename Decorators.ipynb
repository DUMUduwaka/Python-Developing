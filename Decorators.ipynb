{
 "cells": [
  {
   "cell_type": "markdown",
   "metadata": {},
   "source": [
    "#Higher Order Function"
   ]
  },
  {
   "cell_type": "markdown",
   "metadata": {},
   "source": [
    "A higher order function is any function that either accepts a function as a parameter or returns a function."
   ]
  },
  {
   "cell_type": "code",
   "execution_count": 2,
   "metadata": {},
   "outputs": [],
   "source": [
    "# these are the examples for higher oder functions\n",
    "\n",
    "def greet(func):\n",
    "    func()\n",
    "\n",
    "# Or\n",
    "\n",
    "\n",
    "def greet2():\n",
    "    def func():\n",
    "        return 5\n",
    "    return func\n"
   ]
  },
  {
   "cell_type": "markdown",
   "metadata": {},
   "source": [
    "#Decorator"
   ]
  },
  {
   "cell_type": "code",
   "execution_count": 234,
   "metadata": {},
   "outputs": [
    {
     "name": "stdout",
     "output_type": "stream",
     "text": [
      "******************\n",
      "Hello Usitha\n",
      "******************\n"
     ]
    }
   ],
   "source": [
    "def my_decorator(func):\n",
    "    def wrap_func():\n",
    "        print('******************')\n",
    "        func()\n",
    "        print('******************')\n",
    "\n",
    "    return wrap_func\n",
    "\n",
    "\n",
    "@my_decorator\n",
    "def hello():\n",
    "    print('Hello Usitha')\n",
    "\n",
    "\n",
    "hello()\n"
   ]
  },
  {
   "cell_type": "code",
   "execution_count": 21,
   "metadata": {},
   "outputs": [
    {
     "name": "stdout",
     "output_type": "stream",
     "text": [
      "Good bye! Have a nice day\n"
     ]
    }
   ],
   "source": [
    "def bye():\n",
    "    print('Good bye! Have a nice day')\n",
    "\n",
    "\n",
    "bye()\n"
   ]
  },
  {
   "cell_type": "code",
   "execution_count": 22,
   "metadata": {},
   "outputs": [
    {
     "name": "stdout",
     "output_type": "stream",
     "text": [
      "******************\n",
      "Good bye! Have a nice day\n",
      "******************\n"
     ]
    }
   ],
   "source": [
    "@my_decorator\n",
    "def bye():\n",
    "    print('Good bye! Have a nice day')\n",
    "\n",
    "\n",
    "bye()\n"
   ]
  },
  {
   "cell_type": "code",
   "execution_count": 33,
   "metadata": {},
   "outputs": [
    {
     "name": "stdout",
     "output_type": "stream",
     "text": [
      "******************\n",
      "Hello Usitha\n",
      "******************\n",
      "******************\n",
      "Hello Usitha\n",
      "******************\n"
     ]
    }
   ],
   "source": [
    "def hello():\n",
    "    print('Hello Usitha')\n",
    "\n",
    "\n",
    "hello1 = my_decorator(hello)\n",
    "hello1()\n",
    "\n",
    "# or\n",
    "\n",
    "my_decorator(hello)()\n"
   ]
  },
  {
   "cell_type": "code",
   "execution_count": 46,
   "metadata": {},
   "outputs": [
    {
     "name": "stdout",
     "output_type": "stream",
     "text": [
      "******************\n",
      "hi there\n",
      "******************\n"
     ]
    }
   ],
   "source": [
    "def my_decorator(func):\n",
    "    def wrap_func(param):\n",
    "        print('******************')\n",
    "        func(param)\n",
    "        print('******************')\n",
    "\n",
    "    return wrap_func\n",
    "\n",
    "\n",
    "@my_decorator\n",
    "def hello(greeting):\n",
    "    print(greeting)\n",
    "\n",
    "\n",
    "hello('hi there')\n"
   ]
  },
  {
   "cell_type": "markdown",
   "metadata": {},
   "source": [
    "#Decorator Pattern"
   ]
  },
  {
   "cell_type": "code",
   "execution_count": 62,
   "metadata": {},
   "outputs": [
    {
     "name": "stdout",
     "output_type": "stream",
     "text": [
      "---------------------------------------------\n",
      "Your name is Usitha, and you're 26 years old.\n",
      "current status = trial version\n",
      "---------------------------------------------\n",
      "\n",
      "you've successfully logged in :)\n"
     ]
    }
   ],
   "source": [
    "def my_decorator(func):\n",
    "    def wrap_func(*args, **kwargs):\n",
    "        print('---------------------------------------------')\n",
    "        func(*args, **kwargs)\n",
    "        print('---------------------------------------------')\n",
    "        print('\\nyou\\'ve successfully logged in :)')\n",
    "    return wrap_func\n",
    "\n",
    "\n",
    "@my_decorator\n",
    "def hello(Name, age, status='trial version'):\n",
    "    print(\n",
    "        f'Your name is {Name}, and you\\'re {age} years old.\\ncurrent status = {status}')\n",
    "\n",
    "\n",
    "hello('Usitha', 26)\n"
   ]
  },
  {
   "cell_type": "code",
   "execution_count": 243,
   "metadata": {},
   "outputs": [
    {
     "name": "stdout",
     "output_type": "stream",
     "text": [
      "took 1.9946098327636719 ms.\n"
     ]
    }
   ],
   "source": [
    "from time import time\n",
    "\n",
    "\n",
    "def performance(func):\n",
    "    def wrap_func(*args, **kwargs):\n",
    "        t1 = time()\n",
    "        result = func(*args, **kwargs)\n",
    "        t2 = time()\n",
    "        print(f'took {(t2-t1)*1000} ms.')\n",
    "        return result\n",
    "    return wrap_func\n",
    "\n",
    "\n",
    "@performance\n",
    "def long_time():\n",
    "    for i in range(10000):\n",
    "        i*5\n",
    "\n",
    "\n",
    "long_time()\n"
   ]
  },
  {
   "cell_type": "code",
   "execution_count": 283,
   "metadata": {},
   "outputs": [
    {
     "name": "stdout",
     "output_type": "stream",
     "text": [
      "message has been sent\n"
     ]
    }
   ],
   "source": [
    "# Create an @authenticated decorator that only allows the function to run is user1 has 'valid' set to True:\n",
    "user1 = {\n",
    "    'name': 'Sorna',\n",
    "    # changing this will either run or not run the message_friends function.\n",
    "    'valid': True\n",
    "}\n",
    "\n",
    "\n",
    "def authenticated(fn):\n",
    "    def wrapper(*args, **kwargs):\n",
    "        if args[0]['valid']:\n",
    "            return fn(*args, **kwargs)\n",
    "        else:\n",
    "            print('You\\'re not allowed.')\n",
    "    return wrapper\n",
    "\n",
    "\n",
    "@authenticated\n",
    "def message_friends(user):\n",
    "    print('message has been sent')\n",
    "\n",
    "\n",
    "message_friends(user1)\n"
   ]
  }
 ],
 "metadata": {
  "kernelspec": {
   "display_name": "Python 3.10.4 64-bit",
   "language": "python",
   "name": "python3"
  },
  "language_info": {
   "codemirror_mode": {
    "name": "ipython",
    "version": 3
   },
   "file_extension": ".py",
   "mimetype": "text/x-python",
   "name": "python",
   "nbconvert_exporter": "python",
   "pygments_lexer": "ipython3",
   "version": "3.10.4"
  },
  "orig_nbformat": 4,
  "vscode": {
   "interpreter": {
    "hash": "5e533b1966831f5b052ea6b06787e4c23c81ebc41263419272bd1c523722d838"
   }
  }
 },
 "nbformat": 4,
 "nbformat_minor": 2
}
