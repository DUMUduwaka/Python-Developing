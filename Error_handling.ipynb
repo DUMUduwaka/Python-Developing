{
 "cells": [
  {
   "cell_type": "markdown",
   "metadata": {},
   "source": [
    "#Error Handling"
   ]
  },
  {
   "cell_type": "markdown",
   "metadata": {},
   "source": [
    "##Errors in Python"
   ]
  },
  {
   "cell_type": "code",
   "execution_count": 3,
   "metadata": {},
   "outputs": [
    {
     "ename": "SyntaxError",
     "evalue": "expected ':' (3975702927.py, line 3)",
     "output_type": "error",
     "traceback": [
      "\u001b[1;36m  Input \u001b[1;32mIn [3]\u001b[1;36m\u001b[0m\n\u001b[1;33m    def hello()\u001b[0m\n\u001b[1;37m               ^\u001b[0m\n\u001b[1;31mSyntaxError\u001b[0m\u001b[1;31m:\u001b[0m expected ':'\n"
     ]
    }
   ],
   "source": [
    "# Syntax Error\n",
    "\n",
    "def hello()\n",
    "    pass\n",
    "\n",
    "\n",
    "hello()\n"
   ]
  },
  {
   "cell_type": "code",
   "execution_count": 4,
   "metadata": {},
   "outputs": [
    {
     "ename": "NameError",
     "evalue": "name 'name' is not defined",
     "output_type": "error",
     "traceback": [
      "\u001b[1;31m---------------------------------------------------------------------------\u001b[0m",
      "\u001b[1;31mNameError\u001b[0m                                 Traceback (most recent call last)",
      "\u001b[1;32md:\\Code\\ZTM\\ZTM-Python-Developing\\Error_handling.ipynb Cell 3\u001b[0m in \u001b[0;36m<cell line: 7>\u001b[1;34m()\u001b[0m\n\u001b[0;32m      <a href='vscode-notebook-cell:/d%3A/Code/ZTM/ZTM-Python-Developing/Error_handling.ipynb#ch0000003?line=2'>3</a>\u001b[0m \u001b[39mdef\u001b[39;00m \u001b[39mhello\u001b[39m():\n\u001b[0;32m      <a href='vscode-notebook-cell:/d%3A/Code/ZTM/ZTM-Python-Developing/Error_handling.ipynb#ch0000003?line=3'>4</a>\u001b[0m     \u001b[39m1\u001b[39m \u001b[39m+\u001b[39m name\n\u001b[1;32m----> <a href='vscode-notebook-cell:/d%3A/Code/ZTM/ZTM-Python-Developing/Error_handling.ipynb#ch0000003?line=6'>7</a>\u001b[0m hello()\n",
      "\u001b[1;32md:\\Code\\ZTM\\ZTM-Python-Developing\\Error_handling.ipynb Cell 3\u001b[0m in \u001b[0;36mhello\u001b[1;34m()\u001b[0m\n\u001b[0;32m      <a href='vscode-notebook-cell:/d%3A/Code/ZTM/ZTM-Python-Developing/Error_handling.ipynb#ch0000003?line=2'>3</a>\u001b[0m \u001b[39mdef\u001b[39;00m \u001b[39mhello\u001b[39m():\n\u001b[1;32m----> <a href='vscode-notebook-cell:/d%3A/Code/ZTM/ZTM-Python-Developing/Error_handling.ipynb#ch0000003?line=3'>4</a>\u001b[0m     \u001b[39m1\u001b[39m \u001b[39m+\u001b[39m name\n",
      "\u001b[1;31mNameError\u001b[0m: name 'name' is not defined"
     ]
    }
   ],
   "source": [
    "# Name Error\n",
    "\n",
    "def hello():\n",
    "    1 + name\n",
    "\n",
    "\n",
    "hello()\n"
   ]
  },
  {
   "cell_type": "code",
   "execution_count": 6,
   "metadata": {},
   "outputs": [
    {
     "ename": "IndexError",
     "evalue": "list index out of range",
     "output_type": "error",
     "traceback": [
      "\u001b[1;31m---------------------------------------------------------------------------\u001b[0m",
      "\u001b[1;31mIndexError\u001b[0m                                Traceback (most recent call last)",
      "\u001b[1;32md:\\Code\\ZTM\\ZTM-Python-Developing\\Error_handling.ipynb Cell 4\u001b[0m in \u001b[0;36m<cell line: 4>\u001b[1;34m()\u001b[0m\n\u001b[0;32m      <a href='vscode-notebook-cell:/d%3A/Code/ZTM/ZTM-Python-Developing/Error_handling.ipynb#ch0000004?line=0'>1</a>\u001b[0m \u001b[39m# Index Error\u001b[39;00m\n\u001b[0;32m      <a href='vscode-notebook-cell:/d%3A/Code/ZTM/ZTM-Python-Developing/Error_handling.ipynb#ch0000004?line=2'>3</a>\u001b[0m li \u001b[39m=\u001b[39m [\u001b[39m1\u001b[39m, \u001b[39m2\u001b[39m, \u001b[39m3\u001b[39m, \u001b[39m4\u001b[39m]\n\u001b[1;32m----> <a href='vscode-notebook-cell:/d%3A/Code/ZTM/ZTM-Python-Developing/Error_handling.ipynb#ch0000004?line=3'>4</a>\u001b[0m li[\u001b[39m5\u001b[39;49m]\n",
      "\u001b[1;31mIndexError\u001b[0m: list index out of range"
     ]
    }
   ],
   "source": [
    "# Index Error\n",
    "\n",
    "li = [1, 2, 3, 4]\n",
    "li[5]\n"
   ]
  },
  {
   "cell_type": "code",
   "execution_count": 8,
   "metadata": {},
   "outputs": [
    {
     "ename": "KeyError",
     "evalue": "'c'",
     "output_type": "error",
     "traceback": [
      "\u001b[1;31m---------------------------------------------------------------------------\u001b[0m",
      "\u001b[1;31mKeyError\u001b[0m                                  Traceback (most recent call last)",
      "\u001b[1;32md:\\Code\\ZTM\\ZTM-Python-Developing\\Error_handling.ipynb Cell 6\u001b[0m in \u001b[0;36m<cell line: 8>\u001b[1;34m()\u001b[0m\n\u001b[0;32m      <a href='vscode-notebook-cell:/d%3A/Code/ZTM/ZTM-Python-Developing/Error_handling.ipynb#ch0000007?line=0'>1</a>\u001b[0m \u001b[39m# Key Error\u001b[39;00m\n\u001b[0;32m      <a href='vscode-notebook-cell:/d%3A/Code/ZTM/ZTM-Python-Developing/Error_handling.ipynb#ch0000007?line=2'>3</a>\u001b[0m \u001b[39mdict\u001b[39m\u001b[39m=\u001b[39m{\n\u001b[0;32m      <a href='vscode-notebook-cell:/d%3A/Code/ZTM/ZTM-Python-Developing/Error_handling.ipynb#ch0000007?line=3'>4</a>\u001b[0m     \u001b[39m'\u001b[39m\u001b[39ma\u001b[39m\u001b[39m'\u001b[39m : \u001b[39m1\u001b[39m,\n\u001b[0;32m      <a href='vscode-notebook-cell:/d%3A/Code/ZTM/ZTM-Python-Developing/Error_handling.ipynb#ch0000007?line=4'>5</a>\u001b[0m     \u001b[39m'\u001b[39m\u001b[39mb\u001b[39m\u001b[39m'\u001b[39m: \u001b[39m2\u001b[39m\n\u001b[0;32m      <a href='vscode-notebook-cell:/d%3A/Code/ZTM/ZTM-Python-Developing/Error_handling.ipynb#ch0000007?line=5'>6</a>\u001b[0m }\n\u001b[1;32m----> <a href='vscode-notebook-cell:/d%3A/Code/ZTM/ZTM-Python-Developing/Error_handling.ipynb#ch0000007?line=7'>8</a>\u001b[0m \u001b[39mdict\u001b[39;49m[\u001b[39m'\u001b[39;49m\u001b[39mc\u001b[39;49m\u001b[39m'\u001b[39;49m]\n",
      "\u001b[1;31mKeyError\u001b[0m: 'c'"
     ]
    }
   ],
   "source": [
    "# Key Error\n",
    "\n",
    "dict = {\n",
    "    'a': 1,\n",
    "    'b': 2\n",
    "}\n",
    "\n",
    "dict['c']\n"
   ]
  },
  {
   "cell_type": "code",
   "execution_count": 10,
   "metadata": {},
   "outputs": [
    {
     "ename": "ZeroDivisionError",
     "evalue": "division by zero",
     "output_type": "error",
     "traceback": [
      "\u001b[1;31m---------------------------------------------------------------------------\u001b[0m",
      "\u001b[1;31mZeroDivisionError\u001b[0m                         Traceback (most recent call last)",
      "\u001b[1;32md:\\Code\\ZTM\\ZTM-Python-Developing\\Error_handling.ipynb Cell 7\u001b[0m in \u001b[0;36m<cell line: 3>\u001b[1;34m()\u001b[0m\n\u001b[0;32m      <a href='vscode-notebook-cell:/d%3A/Code/ZTM/ZTM-Python-Developing/Error_handling.ipynb#ch0000005?line=0'>1</a>\u001b[0m \u001b[39m# Zero Division Error\u001b[39;00m\n\u001b[1;32m----> <a href='vscode-notebook-cell:/d%3A/Code/ZTM/ZTM-Python-Developing/Error_handling.ipynb#ch0000005?line=2'>3</a>\u001b[0m \u001b[39m12\u001b[39;49m\u001b[39m/\u001b[39;49m\u001b[39m0\u001b[39;49m\n",
      "\u001b[1;31mZeroDivisionError\u001b[0m: division by zero"
     ]
    }
   ],
   "source": [
    "# Zero Division Error\n",
    "\n",
    "12/0\n"
   ]
  },
  {
   "cell_type": "markdown",
   "metadata": {},
   "source": [
    "##Error Handling"
   ]
  },
  {
   "cell_type": "code",
   "execution_count": 14,
   "metadata": {},
   "outputs": [
    {
     "name": "stdout",
     "output_type": "stream",
     "text": [
      "jgdsajgf\n"
     ]
    }
   ],
   "source": [
    "age = input('what is your age? ')\n",
    "print(age)\n",
    "\n",
    "# need the input be an integer. So,\n"
   ]
  },
  {
   "cell_type": "code",
   "execution_count": 16,
   "metadata": {},
   "outputs": [
    {
     "ename": "ValueError",
     "evalue": "invalid literal for int() with base 10: 'dfsdfs'",
     "output_type": "error",
     "traceback": [
      "\u001b[1;31m---------------------------------------------------------------------------\u001b[0m",
      "\u001b[1;31mValueError\u001b[0m                                Traceback (most recent call last)",
      "\u001b[1;32md:\\Code\\ZTM\\ZTM-Python-Developing\\Error_handling.ipynb Cell 10\u001b[0m in \u001b[0;36m<cell line: 1>\u001b[1;34m()\u001b[0m\n\u001b[1;32m----> <a href='vscode-notebook-cell:/d%3A/Code/ZTM/ZTM-Python-Developing/Error_handling.ipynb#ch0000010?line=0'>1</a>\u001b[0m age \u001b[39m=\u001b[39m \u001b[39mint\u001b[39;49m(\u001b[39minput\u001b[39;49m(\u001b[39m'\u001b[39;49m\u001b[39mwhat is your age? \u001b[39;49m\u001b[39m'\u001b[39;49m))\n\u001b[0;32m      <a href='vscode-notebook-cell:/d%3A/Code/ZTM/ZTM-Python-Developing/Error_handling.ipynb#ch0000010?line=1'>2</a>\u001b[0m \u001b[39mprint\u001b[39m(age)\n",
      "\u001b[1;31mValueError\u001b[0m: invalid literal for int() with base 10: 'dfsdfs'"
     ]
    }
   ],
   "source": [
    "age = int(input('what is your age? '))\n",
    "print(age)\n",
    "\n",
    "# got a value error. this error should be handled.\n"
   ]
  },
  {
   "cell_type": "code",
   "execution_count": 18,
   "metadata": {},
   "outputs": [
    {
     "name": "stdout",
     "output_type": "stream",
     "text": [
      "Please enter a number.\n"
     ]
    }
   ],
   "source": [
    "try:\n",
    "    age = int(input('what is your age? '))\n",
    "    print(age)\n",
    "\n",
    "except:\n",
    "    print('Please enter a number.')\n"
   ]
  },
  {
   "cell_type": "code",
   "execution_count": 2,
   "metadata": {},
   "outputs": [
    {
     "name": "stdout",
     "output_type": "stream",
     "text": [
      "Please enter a number.\n",
      "Please enter a number.\n",
      "Please enter a number.\n",
      "12\n",
      "Thank you\n"
     ]
    }
   ],
   "source": [
    "while True:\n",
    "    try:\n",
    "        age = int(input('what is your age? '))\n",
    "        print(age)\n",
    "\n",
    "    except:\n",
    "        print('Please enter a number.')\n",
    "    else:\n",
    "        print('Thank you')\n",
    "        break\n"
   ]
  },
  {
   "cell_type": "code",
   "execution_count": 4,
   "metadata": {},
   "outputs": [
    {
     "name": "stdout",
     "output_type": "stream",
     "text": [
      "Please enter a number.\n",
      "Please enter a number.\n",
      "Please enter a number higher than 0.\n",
      "Please enter a number higher than 0.\n",
      "Please enter a number higher than 0.\n",
      "21\n",
      "Thank you\n"
     ]
    }
   ],
   "source": [
    "while True:\n",
    "    try:\n",
    "        age = int(input('what is your age? '))\n",
    "        10/age\n",
    "        print(age)\n",
    "\n",
    "    except ValueError:\n",
    "        print('Please enter a number.')\n",
    "\n",
    "    except ZeroDivisionError:\n",
    "        print('Please enter a number higher than 0.')\n",
    "\n",
    "    else:\n",
    "        print('Thank you')\n",
    "        break\n"
   ]
  },
  {
   "cell_type": "code",
   "execution_count": 7,
   "metadata": {},
   "outputs": [
    {
     "ename": "TypeError",
     "evalue": "can only concatenate str (not \"int\") to str",
     "output_type": "error",
     "traceback": [
      "\u001b[1;31m---------------------------------------------------------------------------\u001b[0m",
      "\u001b[1;31mTypeError\u001b[0m                                 Traceback (most recent call last)",
      "\u001b[1;32md:\\Code\\ZTM\\ZTM-Python-Developing\\Error_handling.ipynb Cell 14\u001b[0m in \u001b[0;36m<cell line: 4>\u001b[1;34m()\u001b[0m\n\u001b[0;32m      <a href='vscode-notebook-cell:/d%3A/Code/ZTM/ZTM-Python-Developing/Error_handling.ipynb#ch0000015?line=0'>1</a>\u001b[0m \u001b[39mdef\u001b[39;00m \u001b[39msum\u001b[39m(num1,num2):\n\u001b[0;32m      <a href='vscode-notebook-cell:/d%3A/Code/ZTM/ZTM-Python-Developing/Error_handling.ipynb#ch0000015?line=1'>2</a>\u001b[0m     \u001b[39mreturn\u001b[39;00m num1\u001b[39m+\u001b[39mnum2\n\u001b[1;32m----> <a href='vscode-notebook-cell:/d%3A/Code/ZTM/ZTM-Python-Developing/Error_handling.ipynb#ch0000015?line=3'>4</a>\u001b[0m \u001b[39msum\u001b[39;49m(\u001b[39m'\u001b[39;49m\u001b[39m1\u001b[39;49m\u001b[39m'\u001b[39;49m, \u001b[39m3\u001b[39;49m)\n",
      "\u001b[1;32md:\\Code\\ZTM\\ZTM-Python-Developing\\Error_handling.ipynb Cell 14\u001b[0m in \u001b[0;36msum\u001b[1;34m(num1, num2)\u001b[0m\n\u001b[0;32m      <a href='vscode-notebook-cell:/d%3A/Code/ZTM/ZTM-Python-Developing/Error_handling.ipynb#ch0000015?line=0'>1</a>\u001b[0m \u001b[39mdef\u001b[39;00m \u001b[39msum\u001b[39m(num1,num2):\n\u001b[1;32m----> <a href='vscode-notebook-cell:/d%3A/Code/ZTM/ZTM-Python-Developing/Error_handling.ipynb#ch0000015?line=1'>2</a>\u001b[0m     \u001b[39mreturn\u001b[39;00m num1\u001b[39m+\u001b[39;49mnum2\n",
      "\u001b[1;31mTypeError\u001b[0m: can only concatenate str (not \"int\") to str"
     ]
    }
   ],
   "source": [
    "def sum(num1, num2):\n",
    "    return num1+num2\n",
    "\n",
    "\n",
    "sum('1', 3)\n"
   ]
  },
  {
   "cell_type": "code",
   "execution_count": 27,
   "metadata": {},
   "outputs": [
    {
     "name": "stdout",
     "output_type": "stream",
     "text": [
      "Please enter Numbers\n"
     ]
    },
    {
     "data": {
      "text/plain": [
       "5"
      ]
     },
     "execution_count": 27,
     "metadata": {},
     "output_type": "execute_result"
    }
   ],
   "source": [
    "def sum(num1, num2):\n",
    "    try:\n",
    "        return num1+num2\n",
    "    except TypeError:\n",
    "        print('Please enter Numbers')\n",
    "\n",
    "\n",
    "sum('1', 3)\n",
    "sum(2, 3)\n"
   ]
  },
  {
   "cell_type": "code",
   "execution_count": 33,
   "metadata": {},
   "outputs": [
    {
     "name": "stdout",
     "output_type": "stream",
     "text": [
      "Okay you got an error: unsupported operand type(s) for /: 'int' and 'str'\n",
      "Okay you got an error: division by zero\n"
     ]
    },
    {
     "data": {
      "text/plain": [
       "0.5"
      ]
     },
     "execution_count": 33,
     "metadata": {},
     "output_type": "execute_result"
    }
   ],
   "source": [
    "def div(num1, num2):\n",
    "    try:\n",
    "        return num1/num2\n",
    "    except (TypeError, ZeroDivisionError) as err:\n",
    "        print(f'Okay you got an error: {err}')\n",
    "\n",
    "\n",
    "div(1, '2')\n",
    "div(1, 0)\n",
    "div(1, 2)\n"
   ]
  }
 ],
 "metadata": {
  "kernelspec": {
   "display_name": "Python 3.10.4 64-bit",
   "language": "python",
   "name": "python3"
  },
  "language_info": {
   "codemirror_mode": {
    "name": "ipython",
    "version": 3
   },
   "file_extension": ".py",
   "mimetype": "text/x-python",
   "name": "python",
   "nbconvert_exporter": "python",
   "pygments_lexer": "ipython3",
   "version": "3.10.4"
  },
  "orig_nbformat": 4,
  "vscode": {
   "interpreter": {
    "hash": "5e533b1966831f5b052ea6b06787e4c23c81ebc41263419272bd1c523722d838"
   }
  }
 },
 "nbformat": 4,
 "nbformat_minor": 2
}
