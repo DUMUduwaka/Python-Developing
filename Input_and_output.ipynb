{
 "cells": [
  {
   "cell_type": "code",
   "execution_count": 35,
   "metadata": {},
   "outputs": [
    {
     "name": "stdout",
     "output_type": "stream",
     "text": [
      "Hi I'm Usitha Mihiranga \n",
      "I'm 26 years old\n",
      "I live in Sri Lanka\n",
      "\n",
      "\n",
      "\n",
      "\n",
      "\n"
     ]
    }
   ],
   "source": [
    "my_file = open('text.txt')\n",
    "\n",
    "print(my_file.read())\n",
    "print(my_file.read())\n",
    "print(my_file.read())\n",
    "print(my_file.read())\n",
    "print(my_file.read())\n",
    "print(my_file.read())\n"
   ]
  },
  {
   "cell_type": "code",
   "execution_count": 36,
   "metadata": {},
   "outputs": [
    {
     "name": "stdout",
     "output_type": "stream",
     "text": [
      "Hi I'm Usitha Mihiranga \n",
      "I'm 26 years old\n",
      "I live in Sri Lanka\n",
      "Hi I'm Usitha Mihiranga \n",
      "I'm 26 years old\n",
      "I live in Sri Lanka\n",
      "Hi I'm Usitha Mihiranga \n",
      "I'm 26 years old\n",
      "I live in Sri Lanka\n"
     ]
    }
   ],
   "source": [
    "my_file.seek(0)\n",
    "print(my_file.read())\n",
    "my_file.seek(0)\n",
    "print(my_file.read())\n",
    "my_file.seek(0)\n",
    "print(my_file.read())\n"
   ]
  },
  {
   "cell_type": "code",
   "execution_count": 37,
   "metadata": {},
   "outputs": [
    {
     "name": "stdout",
     "output_type": "stream",
     "text": [
      "Hi I'm Usitha Mihiranga \n",
      "\n",
      "I'm 26 years old\n",
      "\n",
      "I live in Sri Lanka\n"
     ]
    }
   ],
   "source": [
    "my_file = open('text.txt')\n",
    "print(my_file.readline())\n",
    "print(my_file.readline())\n",
    "print(my_file.readline())\n"
   ]
  },
  {
   "cell_type": "code",
   "execution_count": 38,
   "metadata": {},
   "outputs": [
    {
     "name": "stdout",
     "output_type": "stream",
     "text": [
      "[\"Hi I'm Usitha Mihiranga \\n\", \"I'm 26 years old\\n\", 'I live in Sri Lanka']\n"
     ]
    }
   ],
   "source": [
    "my_file.seek(0)\n",
    "print(my_file.readlines())"
   ]
  },
  {
   "cell_type": "code",
   "execution_count": 39,
   "metadata": {},
   "outputs": [
    {
     "name": "stdout",
     "output_type": "stream",
     "text": [
      "[\"Hi I'm Usitha Mihiranga \\n\", \"I'm 26 years old\\n\", 'I live in Sri Lanka']\n"
     ]
    }
   ],
   "source": [
    "with open('text.txt') as my_file:\n",
    "    print(my_file.readlines())"
   ]
  },
  {
   "cell_type": "markdown",
   "metadata": {},
   "source": [
    "here, in 'open' the default mode is r which means readable and can be changed to read and write as follows,"
   ]
  },
  {
   "cell_type": "code",
   "execution_count": 34,
   "metadata": {},
   "outputs": [
    {
     "name": "stdout",
     "output_type": "stream",
     "text": [
      "['hello, I wrote a new line\\n', \"I'm 26 years old\\n\", 'hello, I wrote a new linehello, I wrote a new line']\n"
     ]
    }
   ],
   "source": [
    "# write mode\n",
    "with open('text.txt', mode='r+') as my_file:\n",
    "    text = my_file.write('hello, I wrote a new line')\n",
    "    print(my_file.readlines())\n"
   ]
  },
  {
   "cell_type": "code",
   "execution_count": 46,
   "metadata": {},
   "outputs": [
    {
     "name": "stdout",
     "output_type": "stream",
     "text": [
      "25\n"
     ]
    }
   ],
   "source": [
    "# Append mode\n",
    "with open('text.txt', mode='a') as my_file:\n",
    "    text = my_file.write('hello, I wrote a new line')\n",
    "    print(text)"
   ]
  },
  {
   "cell_type": "code",
   "execution_count": 48,
   "metadata": {},
   "outputs": [],
   "source": [
    "with open('sad.txt',mode='w') as my_file:\n",
    "    text= my_file.write(':(')"
   ]
  },
  {
   "cell_type": "code",
   "execution_count": 49,
   "metadata": {},
   "outputs": [
    {
     "ename": "FileNotFoundError",
     "evalue": "[Errno 2] No such file or directory: 'sad.txt'",
     "output_type": "error",
     "traceback": [
      "\u001b[1;31m---------------------------------------------------------------------------\u001b[0m",
      "\u001b[1;31mFileNotFoundError\u001b[0m                         Traceback (most recent call last)",
      "\u001b[1;32md:\\Code\\ZTM\\ZTM-Python-Developing\\Input_and_output.ipynb Cell 10\u001b[0m in \u001b[0;36m<cell line: 1>\u001b[1;34m()\u001b[0m\n\u001b[1;32m----> <a href='vscode-notebook-cell:/d%3A/Code/ZTM/ZTM-Python-Developing/Input_and_output.ipynb#ch0000009?line=0'>1</a>\u001b[0m \u001b[39mwith\u001b[39;00m \u001b[39mopen\u001b[39;49m(\u001b[39m'\u001b[39;49m\u001b[39msad.txt\u001b[39;49m\u001b[39m'\u001b[39;49m,mode\u001b[39m=\u001b[39;49m\u001b[39m'\u001b[39;49m\u001b[39mr\u001b[39;49m\u001b[39m'\u001b[39;49m) \u001b[39mas\u001b[39;00m my_file:\n\u001b[0;32m      <a href='vscode-notebook-cell:/d%3A/Code/ZTM/ZTM-Python-Developing/Input_and_output.ipynb#ch0000009?line=1'>2</a>\u001b[0m     \u001b[39mprint\u001b[39m(my_file\u001b[39m.\u001b[39mread())\n",
      "\u001b[1;31mFileNotFoundError\u001b[0m: [Errno 2] No such file or directory: 'sad.txt'"
     ]
    }
   ],
   "source": [
    "with open('sad.txt',mode='r') as my_file:\n",
    "    print(my_file.read())"
   ]
  },
  {
   "cell_type": "code",
   "execution_count": 50,
   "metadata": {},
   "outputs": [
    {
     "name": "stdout",
     "output_type": "stream",
     "text": [
      ":(\n"
     ]
    }
   ],
   "source": [
    "with open('app/sad.txt',mode='r') as my_file:\n",
    "    print(my_file.read())"
   ]
  },
  {
   "cell_type": "code",
   "execution_count": 60,
   "metadata": {},
   "outputs": [
    {
     "name": "stdout",
     "output_type": "stream",
     "text": [
      "file does not exist\n"
     ]
    }
   ],
   "source": [
    "try:\n",
    "    with open('sad.txt', mode='r') as my_file:\n",
    "        print(my_file.read())\n",
    "\n",
    "except FileNotFoundError as err:\n",
    "    print('file does not exist')\n",
    "    # raise err\n"
   ]
  },
  {
   "cell_type": "markdown",
   "metadata": {},
   "source": [
    "#Excercise - Translator"
   ]
  },
  {
   "cell_type": "code",
   "execution_count": 32,
   "metadata": {},
   "outputs": [],
   "source": [
    "from translate import Translator"
   ]
  },
  {
   "cell_type": "code",
   "execution_count": 36,
   "metadata": {},
   "outputs": [
    {
     "name": "stdout",
     "output_type": "stream",
     "text": [
      "こんにちは、Usitha Mihirangaです\n",
      "私は26歳です。\n"
     ]
    }
   ],
   "source": [
    "try:\n",
    "    with open('text.txt', mode='r') as my_file:\n",
    "        translator = Translator(to_lang=\"ja\")\n",
    "        translation = translator.translate(my_file.read())\n",
    "        print(translation)\n",
    "\n",
    "        # with open('text-ja.txt', mode='w') as my_file2:\n",
    "        #     text = my_file2.write(translation)\n",
    "\n",
    "except FileNotFoundError as err:\n",
    "    print('file does not exist')\n"
   ]
  }
 ],
 "metadata": {
  "kernelspec": {
   "display_name": "Python 3.10.4 64-bit",
   "language": "python",
   "name": "python3"
  },
  "language_info": {
   "codemirror_mode": {
    "name": "ipython",
    "version": 3
   },
   "file_extension": ".py",
   "mimetype": "text/x-python",
   "name": "python",
   "nbconvert_exporter": "python",
   "pygments_lexer": "ipython3",
   "version": "3.10.4"
  },
  "orig_nbformat": 4,
  "vscode": {
   "interpreter": {
    "hash": "5e533b1966831f5b052ea6b06787e4c23c81ebc41263419272bd1c523722d838"
   }
  }
 },
 "nbformat": 4,
 "nbformat_minor": 2
}
