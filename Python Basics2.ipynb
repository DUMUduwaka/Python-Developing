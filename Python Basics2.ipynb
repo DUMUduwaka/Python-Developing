{
 "cells": [
  {
   "cell_type": "markdown",
   "metadata": {},
   "source": [
    "#Conditional logic"
   ]
  },
  {
   "cell_type": "code",
   "execution_count": 14,
   "metadata": {},
   "outputs": [],
   "source": [
    "age = input('what is your age? ')\n",
    "driving_license = input('Do you have driving license? ')"
   ]
  },
  {
   "cell_type": "code",
   "execution_count": 24,
   "metadata": {},
   "outputs": [
    {
     "data": {
      "text/plain": [
       "'no'"
      ]
     },
     "execution_count": 24,
     "metadata": {},
     "output_type": "execute_result"
    }
   ],
   "source": [
    "driving_license"
   ]
  },
  {
   "cell_type": "code",
   "execution_count": 29,
   "metadata": {},
   "outputs": [],
   "source": [
    "is_old = int(age)>20\n",
    "B = bool(driving_license == 'yes' or driving_license == 'Yes')"
   ]
  },
  {
   "cell_type": "code",
   "execution_count": 30,
   "metadata": {},
   "outputs": [
    {
     "name": "stdout",
     "output_type": "stream",
     "text": [
      "please get the driving license\n"
     ]
    }
   ],
   "source": [
    "if is_old & B:\n",
    "    print('Okay you can drive!')\n",
    "\n",
    "elif not(is_old) and B:\n",
    "    print('you\\'re not old enough to drive a vehicle!')\n",
    "\n",
    "elif not(B) and is_old:\n",
    "    print('please get the driving license')\n",
    "\n",
    "else:\n",
    "    print('get the f*** out from here.')"
   ]
  },
  {
   "cell_type": "markdown",
   "metadata": {},
   "source": [
    "#Ternary Operator\n",
    "\n",
    "condition_is_true if condition else condition is false"
   ]
  },
  {
   "cell_type": "code",
   "execution_count": 33,
   "metadata": {},
   "outputs": [
    {
     "name": "stdout",
     "output_type": "stream",
     "text": [
      "not allowed to message\n"
     ]
    }
   ],
   "source": [
    "is_friend = 0\n",
    "can_message = 'message allowed' if is_friend else 'not allowed to message'\n",
    "print(can_message)"
   ]
  },
  {
   "cell_type": "code",
   "execution_count": 5,
   "metadata": {},
   "outputs": [
    {
     "data": {
      "text/plain": [
       "False"
      ]
     },
     "execution_count": 5,
     "metadata": {},
     "output_type": "execute_result"
    }
   ],
   "source": [
    "4>5\n",
    "5>4\n",
    "5 == 4"
   ]
  },
  {
   "cell_type": "code",
   "execution_count": 6,
   "metadata": {},
   "outputs": [
    {
     "data": {
      "text/plain": [
       "False"
      ]
     },
     "execution_count": 6,
     "metadata": {},
     "output_type": "execute_result"
    }
   ],
   "source": [
    "'a' > 'b'"
   ]
  },
  {
   "cell_type": "code",
   "execution_count": 9,
   "metadata": {},
   "outputs": [
    {
     "name": "stdout",
     "output_type": "stream",
     "text": [
      "at least you're getting there.\n"
     ]
    }
   ],
   "source": [
    "is_magician= True\n",
    "is_expert = 0\n",
    "\n",
    "if is_magician and is_expert:\n",
    "    print('you are a master magician')\n",
    "\n",
    "elif is_magician and not(is_expert):\n",
    "    print('at least you\\'re getting there.')\n",
    "\n",
    "elif not(is_magician):\n",
    "    print('you need magic powers')\n"
   ]
  },
  {
   "cell_type": "code",
   "execution_count": 15,
   "metadata": {},
   "outputs": [
    {
     "data": {
      "text/plain": [
       "False"
      ]
     },
     "execution_count": 15,
     "metadata": {},
     "output_type": "execute_result"
    }
   ],
   "source": [
    "bool([]) == 0 \n",
    "[] == 1"
   ]
  },
  {
   "cell_type": "code",
   "execution_count": 17,
   "metadata": {},
   "outputs": [
    {
     "data": {
      "text/plain": [
       "False"
      ]
     },
     "execution_count": 17,
     "metadata": {},
     "output_type": "execute_result"
    }
   ],
   "source": [
    "' ' == None"
   ]
  },
  {
   "cell_type": "markdown",
   "metadata": {},
   "source": [
    "#For Loops\n"
   ]
  },
  {
   "cell_type": "code",
   "execution_count": null,
   "metadata": {},
   "outputs": [],
   "source": [
    "for i in range(10):\n",
    "    print(i)"
   ]
  },
  {
   "cell_type": "code",
   "execution_count": 37,
   "metadata": {},
   "outputs": [],
   "source": [
    "user={\n",
    "    'Name' : 'Usitha',\n",
    "    'tel' : 119,\n",
    "    'email' : 'usitha@abc.com'\n",
    "}"
   ]
  },
  {
   "cell_type": "code",
   "execution_count": 34,
   "metadata": {},
   "outputs": [
    {
     "name": "stdout",
     "output_type": "stream",
     "text": [
      "('Name', 'Usitha')\n",
      "('tel', 119)\n",
      "('email', 'usitha@abc.com')\n",
      "Usitha\n",
      "119\n",
      "usitha@abc.com\n",
      "Name\n",
      "tel\n",
      "email\n"
     ]
    }
   ],
   "source": [
    "user['Name']\n",
    "\n",
    "for item in user.items():\n",
    "    print(item)\n",
    "\n",
    "for item in user.values():\n",
    "    print(item)\n",
    "\n",
    "for item in user.keys():\n",
    "    print(item)"
   ]
  },
  {
   "cell_type": "code",
   "execution_count": 42,
   "metadata": {},
   "outputs": [
    {
     "name": "stdout",
     "output_type": "stream",
     "text": [
      "Name Usitha\n",
      "tel 119\n",
      "email usitha@abc.com\n"
     ]
    }
   ],
   "source": [
    "for key,value in user.items():\n",
    "    print(key,value)"
   ]
  },
  {
   "cell_type": "code",
   "execution_count": 52,
   "metadata": {},
   "outputs": [
    {
     "name": "stdout",
     "output_type": "stream",
     "text": [
      "13\n",
      "147\n"
     ]
    }
   ],
   "source": [
    "my_list = [2,3,4,5,6,7,4,6,4,3,32,4,67]\n",
    "\n",
    "for i in range(len(my_list)):\n",
    "    0\n",
    "print(i+1)\n",
    "    \n",
    "counter = 0\n",
    "\n",
    "for i in my_list:\n",
    "    counter += i\n",
    "print(counter)\n"
   ]
  },
  {
   "cell_type": "code",
   "execution_count": 57,
   "metadata": {},
   "outputs": [
    {
     "data": {
      "text/plain": [
       "[0, 1, 2, 3, 4, 5, 6, 7, 8, 9]"
      ]
     },
     "execution_count": 57,
     "metadata": {},
     "output_type": "execute_result"
    }
   ],
   "source": [
    "list(range(10))"
   ]
  },
  {
   "cell_type": "code",
   "execution_count": 66,
   "metadata": {},
   "outputs": [
    {
     "name": "stdout",
     "output_type": "stream",
     "text": [
      "Index:0 Character: H\n",
      "Index:1 Character: e\n",
      "Index:2 Character: l\n",
      "Index:3 Character: l\n",
      "Index:4 Character: o\n"
     ]
    }
   ],
   "source": [
    "for i,char in enumerate('Hello'):\n",
    "    print(f'Index:{i} Character: {char}')"
   ]
  },
  {
   "cell_type": "code",
   "execution_count": 69,
   "metadata": {},
   "outputs": [
    {
     "name": "stdout",
     "output_type": "stream",
     "text": [
      "Index 0, Number 2\n",
      "Index 1, Number 4\n",
      "Index 2, Number 6\n",
      "Index 3, Number 8\n",
      "Index 4, Number 10\n"
     ]
    }
   ],
   "source": [
    "for i, char in enumerate((2,4,6,8,10)):\n",
    "    print(f'Index {i}, Number {char}')"
   ]
  },
  {
   "cell_type": "code",
   "execution_count": 71,
   "metadata": {},
   "outputs": [
    {
     "name": "stdout",
     "output_type": "stream",
     "text": [
      "Index 25, Number 50\n"
     ]
    }
   ],
   "source": [
    "for i, char in enumerate(list(range(0,100,2))):\n",
    "    if char == 50:\n",
    "        print(f'Index {i}, Number {char}')"
   ]
  },
  {
   "cell_type": "markdown",
   "metadata": {},
   "source": [
    "#While loops"
   ]
  },
  {
   "cell_type": "code",
   "execution_count": null,
   "metadata": {},
   "outputs": [],
   "source": [
    "i = 0\n",
    "while i< 50:\n",
    "    print(i)\n",
    "    i=i+1"
   ]
  },
  {
   "cell_type": "code",
   "execution_count": 3,
   "metadata": {},
   "outputs": [
    {
     "name": "stdout",
     "output_type": "stream",
     "text": [
      "1\n",
      "2\n",
      "3\n",
      "4\n",
      "5\n",
      "6\n",
      "1\n",
      "2\n",
      "3\n",
      "4\n",
      "5\n",
      "6\n"
     ]
    }
   ],
   "source": [
    "my_list=[1,2,3,4,5,6]\n",
    "for i in my_list:\n",
    "    print(i)\n",
    "\n",
    "i=0\n",
    "while i < len(my_list):\n",
    "    print(my_list[i])\n",
    "    i=i+1"
   ]
  },
  {
   "cell_type": "code",
   "execution_count": null,
   "metadata": {},
   "outputs": [],
   "source": [
    "i= 2048\n",
    "\n",
    "while i > 0.00005:\n",
    "    print(i)\n",
    "    i=i/2"
   ]
  },
  {
   "cell_type": "code",
   "execution_count": 5,
   "metadata": {},
   "outputs": [
    {
     "name": "stdout",
     "output_type": "stream",
     "text": [
      "1\n",
      "2\n",
      "3\n",
      "4\n",
      "5\n",
      "6\n"
     ]
    }
   ],
   "source": [
    "my_list=[1,2,3,4,5,6]\n",
    "for i in my_list:\n",
    "    pass\n",
    "\n",
    "i=0\n",
    "while i < len(my_list):\n",
    "    print(my_list[i])\n",
    "    i=i+1"
   ]
  },
  {
   "cell_type": "markdown",
   "metadata": {},
   "source": [
    "#GUI exercise"
   ]
  },
  {
   "cell_type": "code",
   "execution_count": 6,
   "metadata": {},
   "outputs": [],
   "source": [
    "picture = [\n",
    "  [0,0,0,1,0,0,0],\n",
    "  [0,0,1,1,1,0,0],\n",
    "  [0,1,1,1,1,1,0],\n",
    "  [1,1,1,1,1,1,1],\n",
    "  [0,0,0,1,0,0,0],\n",
    "  [0,0,0,1,0,0,0]\n",
    "]"
   ]
  },
  {
   "cell_type": "code",
   "execution_count": 36,
   "metadata": {},
   "outputs": [
    {
     "data": {
      "text/plain": [
       "7"
      ]
     },
     "execution_count": 36,
     "metadata": {},
     "output_type": "execute_result"
    }
   ],
   "source": [
    "len(picture[0])"
   ]
  },
  {
   "cell_type": "code",
   "execution_count": 21,
   "metadata": {},
   "outputs": [
    {
     "data": {
      "text/plain": [
       "7"
      ]
     },
     "execution_count": 21,
     "metadata": {},
     "output_type": "execute_result"
    }
   ],
   "source": [
    "import numpy as np\n",
    "np.shape(picture)[1]"
   ]
  },
  {
   "cell_type": "code",
   "execution_count": 46,
   "metadata": {},
   "outputs": [
    {
     "name": "stdout",
     "output_type": "stream",
     "text": [
      "   *   \n",
      "  ***  \n",
      " ***** \n",
      "*******\n",
      "   *   \n",
      "   *   \n"
     ]
    }
   ],
   "source": [
    "for i in range(np.shape(picture)[0]):\n",
    "    for j in range(np.shape(picture)[1]):\n",
    "        if picture[i][j]==0:\n",
    "            print(' ',end='')\n",
    "        else:\n",
    "            print('*',end='')\n",
    "    print('')"
   ]
  },
  {
   "cell_type": "code",
   "execution_count": 55,
   "metadata": {},
   "outputs": [
    {
     "data": {
      "text/plain": [
       "['b', 'n']"
      ]
     },
     "execution_count": 55,
     "metadata": {},
     "output_type": "execute_result"
    }
   ],
   "source": [
    "some_list = ['a', 'b', 'c', 'b', 'd', 'm', 'n', 'n']\n",
    "\n",
    "duplicates=[]\n",
    "\n",
    "for item in some_list:\n",
    "    if some_list.count(item)>1:\n",
    "        if item not in duplicates:\n",
    "            duplicates.append(item)\n",
    "duplicates"
   ]
  },
  {
   "cell_type": "code",
   "execution_count": 53,
   "metadata": {},
   "outputs": [
    {
     "data": {
      "text/plain": [
       "1"
      ]
     },
     "execution_count": 53,
     "metadata": {},
     "output_type": "execute_result"
    }
   ],
   "source": [
    "some_list.count('a')"
   ]
  },
  {
   "cell_type": "markdown",
   "metadata": {},
   "source": [
    "#functions"
   ]
  },
  {
   "cell_type": "code",
   "execution_count": 59,
   "metadata": {},
   "outputs": [
    {
     "name": "stdout",
     "output_type": "stream",
     "text": [
      "Hello!\n"
     ]
    }
   ],
   "source": [
    "def say_hello():\n",
    "    print('Hello!')\n",
    "\n",
    "say_hello()"
   ]
  },
  {
   "cell_type": "code",
   "execution_count": 3,
   "metadata": {},
   "outputs": [
    {
     "name": "stdout",
     "output_type": "stream",
     "text": [
      "Hello! Usitha 🤚\n",
      "Hello! 🤚 Usitha\n",
      "Hello! Usitha 🤚\n"
     ]
    }
   ],
   "source": [
    "#parameters\n",
    "def say_hello(name, emoji):\n",
    "    print(f'Hello! {name} {emoji}')\n",
    "\n",
    "#positional arguments\n",
    "say_hello('Usitha','🤚')\n",
    "say_hello('🤚','Usitha')\n",
    "\n",
    "#keyword arguments\n",
    "say_hello(emoji='🤚', name='Usitha')"
   ]
  },
  {
   "cell_type": "code",
   "execution_count": 6,
   "metadata": {},
   "outputs": [
    {
     "data": {
      "text/plain": [
       "102"
      ]
     },
     "execution_count": 6,
     "metadata": {},
     "output_type": "execute_result"
    }
   ],
   "source": [
    "def sum(num1, num2):\n",
    "    return num1+num2\n",
    "\n",
    "sum(2,5)\n",
    "sum(34,68)"
   ]
  },
  {
   "cell_type": "code",
   "execution_count": 10,
   "metadata": {},
   "outputs": [
    {
     "data": {
      "text/plain": [
       "279098.2857142857"
      ]
     },
     "execution_count": 10,
     "metadata": {},
     "output_type": "execute_result"
    }
   ],
   "source": [
    "def area_circle(radius):\n",
    "    '''\n",
    "    info: this function calculates the area of a circle \n",
    "    '''\n",
    "    return (22/7)*radius**2\n",
    "\n",
    "area_circle(7)\n",
    "area_circle(3.5)\n",
    "area_circle(298)"
   ]
  },
  {
   "cell_type": "code",
   "execution_count": 12,
   "metadata": {},
   "outputs": [
    {
     "name": "stdout",
     "output_type": "stream",
     "text": [
      "Help on function area_circle in module __main__:\n",
      "\n",
      "area_circle(radius)\n",
      "    info: this function calculates the area of a circle\n",
      "\n"
     ]
    },
    {
     "data": {
      "text/plain": [
       "'\\n    info: this function calculates the area of a circle \\n    '"
      ]
     },
     "execution_count": 12,
     "metadata": {},
     "output_type": "execute_result"
    }
   ],
   "source": [
    "help(area_circle)\n",
    "area_circle.__doc__"
   ]
  },
  {
   "cell_type": "markdown",
   "metadata": {},
   "source": [
    "# \\*args and \\**kwargs  "
   ]
  },
  {
   "cell_type": "code",
   "execution_count": 3,
   "metadata": {},
   "outputs": [
    {
     "name": "stdout",
     "output_type": "stream",
     "text": [
      "30\n"
     ]
    }
   ],
   "source": [
    "def super_func(name,*args,I='hi',**kwargs):\n",
    "    total=0\n",
    "    for items in kwargs.values():\n",
    "        total += items\n",
    "    return sum(args)+total\n",
    "\n",
    "print(super_func('Usitha',1,2,3,4,5,num1=5,num2=10))\n",
    "\n",
    "# Rule: Param, *args, default param, **kwargs"
   ]
  },
  {
   "cell_type": "code",
   "execution_count": 27,
   "metadata": {},
   "outputs": [
    {
     "data": {
      "text/plain": [
       "1002"
      ]
     },
     "execution_count": 27,
     "metadata": {},
     "output_type": "execute_result"
    }
   ],
   "source": [
    "def highest_even(li):\n",
    "    even=[]\n",
    "    for items in li:\n",
    "        if items % 2 == 0:\n",
    "            even.append(items)\n",
    "    return max(even)\n",
    "\n",
    "highest_even([2,3,4,5,56,7,89,234,456,233,1002,90])"
   ]
  },
  {
   "cell_type": "code",
   "execution_count": 35,
   "metadata": {},
   "outputs": [
    {
     "name": "stdout",
     "output_type": "stream",
     "text": [
      "too long 15 elements\n",
      "15\n",
      "hellooooooooooo\n",
      "14\n",
      "helloooooooooo\n",
      "13\n",
      "hellooooooooo\n",
      "12\n",
      "helloooooooo\n",
      "11\n",
      "hellooooooo\n",
      "10\n",
      "helloooooo\n",
      "9\n",
      "hellooooo\n",
      "8\n",
      "helloooo\n",
      "7\n",
      "hellooo\n",
      "6\n",
      "helloo\n",
      "5\n",
      "hello\n",
      "4\n",
      "hell\n",
      "3\n",
      "hel\n",
      "2\n",
      "he\n",
      "1\n",
      "h\n"
     ]
    }
   ],
   "source": [
    "a = 'hellooooooooooo'\n",
    "# Warlus operator :=\n",
    "\n",
    "if ((n := len(a))>10):\n",
    "    print(f'too long {n} elements')\n",
    "\n",
    "while ((n:=len(a))>=1):\n",
    "    print(n)\n",
    "    print(a)\n",
    "    a = a[:-1]\n",
    "    \n"
   ]
  },
  {
   "cell_type": "markdown",
   "metadata": {},
   "source": [
    "#global Keyword"
   ]
  },
  {
   "cell_type": "code",
   "execution_count": 40,
   "metadata": {},
   "outputs": [
    {
     "data": {
      "text/plain": [
       "5"
      ]
     },
     "execution_count": 40,
     "metadata": {},
     "output_type": "execute_result"
    }
   ],
   "source": [
    "total = 0\n",
    "\n",
    "def count():\n",
    "    global total\n",
    "    total += 1\n",
    "    return total\n",
    "\n",
    "count()\n",
    "count()\n",
    "count()\n",
    "count()\n",
    "count()"
   ]
  },
  {
   "cell_type": "code",
   "execution_count": 46,
   "metadata": {},
   "outputs": [
    {
     "name": "stdout",
     "output_type": "stream",
     "text": [
      "inner:  nonlocal\n",
      "outer:  nonlocal\n"
     ]
    }
   ],
   "source": [
    "def outer():\n",
    "    x = 'local'\n",
    "\n",
    "    def inner():\n",
    "        nonlocal x\n",
    "        x = 'nonlocal'\n",
    "        print('inner: ', x)\n",
    "\n",
    "    inner()\n",
    "    print('outer: ', x)\n",
    "\n",
    "\n",
    "outer()\n"
   ]
  }
 ],
 "metadata": {
  "kernelspec": {
   "display_name": "Python 3.10.4 64-bit",
   "language": "python",
   "name": "python3"
  },
  "language_info": {
   "codemirror_mode": {
    "name": "ipython",
    "version": 3
   },
   "file_extension": ".py",
   "mimetype": "text/x-python",
   "name": "python",
   "nbconvert_exporter": "python",
   "pygments_lexer": "ipython3",
   "version": "3.10.4"
  },
  "orig_nbformat": 4,
  "vscode": {
   "interpreter": {
    "hash": "5e533b1966831f5b052ea6b06787e4c23c81ebc41263419272bd1c523722d838"
   }
  }
 },
 "nbformat": 4,
 "nbformat_minor": 2
}
