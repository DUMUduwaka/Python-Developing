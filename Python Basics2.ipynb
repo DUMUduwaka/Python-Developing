{
 "cells": [
  {
   "cell_type": "markdown",
   "metadata": {},
   "source": [
    "Conditional logic"
   ]
  },
  {
   "cell_type": "code",
   "execution_count": 14,
   "metadata": {},
   "outputs": [],
   "source": [
    "age = input('what is your age? ')\n",
    "driving_license = input('Do you have driving license? ')"
   ]
  },
  {
   "cell_type": "code",
   "execution_count": 24,
   "metadata": {},
   "outputs": [
    {
     "data": {
      "text/plain": [
       "'no'"
      ]
     },
     "execution_count": 24,
     "metadata": {},
     "output_type": "execute_result"
    }
   ],
   "source": [
    "driving_license"
   ]
  },
  {
   "cell_type": "code",
   "execution_count": 29,
   "metadata": {},
   "outputs": [],
   "source": [
    "is_old = int(age)>20\n",
    "B = bool(driving_license == 'yes' or driving_license == 'Yes')"
   ]
  },
  {
   "cell_type": "code",
   "execution_count": 30,
   "metadata": {},
   "outputs": [
    {
     "name": "stdout",
     "output_type": "stream",
     "text": [
      "please get the driving license\n"
     ]
    }
   ],
   "source": [
    "if is_old & B:\n",
    "    print('Okay you can drive!')\n",
    "\n",
    "elif not(is_old) and B:\n",
    "    print('you\\'re not old enough to drive a vehicle!')\n",
    "\n",
    "elif not(B) and is_old:\n",
    "    print('please get the driving license')\n",
    "\n",
    "else:\n",
    "    print('get the f*** out from here.')"
   ]
  }
 ],
 "metadata": {
  "kernelspec": {
   "display_name": "Python 3.10.4 64-bit",
   "language": "python",
   "name": "python3"
  },
  "language_info": {
   "codemirror_mode": {
    "name": "ipython",
    "version": 3
   },
   "file_extension": ".py",
   "mimetype": "text/x-python",
   "name": "python",
   "nbconvert_exporter": "python",
   "pygments_lexer": "ipython3",
   "version": "3.10.4"
  },
  "orig_nbformat": 4,
  "vscode": {
   "interpreter": {
    "hash": "5e533b1966831f5b052ea6b06787e4c23c81ebc41263419272bd1c523722d838"
   }
  }
 },
 "nbformat": 4,
 "nbformat_minor": 2
}
