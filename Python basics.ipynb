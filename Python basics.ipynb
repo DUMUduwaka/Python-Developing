{
 "cells": [
  {
   "cell_type": "code",
   "execution_count": 4,
   "metadata": {},
   "outputs": [
    {
     "name": "stdout",
     "output_type": "stream",
     "text": [
      "<class 'int'>\n",
      "<class 'float'>\n",
      "<class 'float'>\n"
     ]
    }
   ],
   "source": [
    "#fundemental data types\n",
    "print(type(2))\n",
    "print(type(2.344))\n",
    "print(type(2/3))"
   ]
  },
  {
   "cell_type": "code",
   "execution_count": 18,
   "metadata": {},
   "outputs": [
    {
     "data": {
      "text/plain": [
       "25"
      ]
     },
     "execution_count": 18,
     "metadata": {},
     "output_type": "execute_result"
    }
   ],
   "source": [
    "#math functions\n",
    "round(335.45495945,-2)\n",
    "bin(25)\n",
    "int('0b11001',2)"
   ]
  },
  {
   "cell_type": "code",
   "execution_count": 21,
   "metadata": {},
   "outputs": [
    {
     "name": "stdout",
     "output_type": "stream",
     "text": [
      "Don Usitha Mihiranga Uduwakaarachchi\n"
     ]
    }
   ],
   "source": [
    "#string\n",
    "\n",
    "first_name = 'Don Usitha Mihiranga'\n",
    "last_name = 'Uduwakaarachchi'\n",
    "full_name = first_name + ' ' + last_name\n",
    "print(full_name)"
   ]
  },
  {
   "cell_type": "code",
   "execution_count": 63,
   "metadata": {},
   "outputs": [
    {
     "name": "stdout",
     "output_type": "stream",
     "text": [
      "hello Usitha\n"
     ]
    }
   ],
   "source": [
    "#String Concatenation\n",
    "print('hello'+' Usitha')"
   ]
  },
  {
   "cell_type": "code",
   "execution_count": 5,
   "metadata": {},
   "outputs": [
    {
     "data": {
      "text/plain": [
       "int"
      ]
     },
     "execution_count": 5,
     "metadata": {},
     "output_type": "execute_result"
    }
   ],
   "source": [
    "str(100)\n",
    "type(str(100))\n",
    "type(int(str(100)))"
   ]
  },
  {
   "cell_type": "code",
   "execution_count": 3,
   "metadata": {},
   "outputs": [
    {
     "name": "stdout",
     "output_type": "stream",
     "text": [
      "This is 'an' example for \"Esacpe\" sequence\n"
     ]
    }
   ],
   "source": [
    "#Escape sequence\n",
    "Weather = \"This is 'an' example for \\\"Esacpe\\\" sequence\"\n",
    "print(Weather)"
   ]
  },
  {
   "cell_type": "code",
   "execution_count": null,
   "metadata": {},
   "outputs": [],
   "source": [
    "#formatted string \n",
    "Name = 'Usitha'\n",
    "age = 26\n",
    "\n",
    "print(f'My name is {Name}. I\\'m {age} years old.') # or\n",
    "\n",
    "print('My name is {}. I\\'m {} years old.'.format('Usitha','26'))\n",
    "print('My name is {}. I\\'m {} years old.'.format(Name,age))"
   ]
  },
  {
   "cell_type": "code",
   "execution_count": null,
   "metadata": {},
   "outputs": [],
   "source": [
    "name = 'Uduwakaarachchi'\n",
    "\n",
    "print(name[1])\n",
    "print(name[1:])\n",
    "print(name[1:6])\n",
    "print(name[1:-1])\n",
    "print(name[:-1])\n",
    "print(name[1:-1:2])\n",
    "name[::-1]\n",
    "\n",
    "name.count('a')"
   ]
  },
  {
   "cell_type": "code",
   "execution_count": 46,
   "metadata": {},
   "outputs": [
    {
     "data": {
      "text/plain": [
       "5"
      ]
     },
     "execution_count": 46,
     "metadata": {},
     "output_type": "execute_result"
    }
   ],
   "source": [
    "len(name)\n",
    "name.upper()\n",
    "name.capitalize()\n",
    "name.index('k')"
   ]
  },
  {
   "cell_type": "code",
   "execution_count": 56,
   "metadata": {},
   "outputs": [
    {
     "data": {
      "text/plain": [
       "26"
      ]
     },
     "execution_count": 56,
     "metadata": {},
     "output_type": "execute_result"
    }
   ],
   "source": [
    "birth_year = int(input('what is you birth year?'))\n",
    "your_age = 2022 -birth_year\n",
    "your_age"
   ]
  },
  {
   "cell_type": "code",
   "execution_count": 61,
   "metadata": {},
   "outputs": [
    {
     "name": "stdout",
     "output_type": "stream",
     "text": [
      "you're 26 years old.\n"
     ]
    }
   ],
   "source": [
    "print(f'you\\'re {your_age} years old.')"
   ]
  },
  {
   "cell_type": "code",
   "execution_count": 76,
   "metadata": {},
   "outputs": [],
   "source": [
    "user_name=input('what is your name? ')\n",
    "user_password=input('What is your password? ')"
   ]
  },
  {
   "cell_type": "code",
   "execution_count": null,
   "metadata": {},
   "outputs": [],
   "source": [
    "user_name\n",
    "user_password = '*' * len(user_password)\n",
    "print('User Name: ' + user_name)\n",
    "print('Password: ' + user_password)"
   ]
  },
  {
   "cell_type": "markdown",
   "metadata": {},
   "source": [
    "Lists"
   ]
  },
  {
   "cell_type": "code",
   "execution_count": null,
   "metadata": {},
   "outputs": [],
   "source": []
  }
 ],
 "metadata": {
  "kernelspec": {
   "display_name": "Python 3.10.4 64-bit",
   "language": "python",
   "name": "python3"
  },
  "language_info": {
   "codemirror_mode": {
    "name": "ipython",
    "version": 3
   },
   "file_extension": ".py",
   "mimetype": "text/x-python",
   "name": "python",
   "nbconvert_exporter": "python",
   "pygments_lexer": "ipython3",
   "version": "3.10.4"
  },
  "orig_nbformat": 4,
  "vscode": {
   "interpreter": {
    "hash": "5e533b1966831f5b052ea6b06787e4c23c81ebc41263419272bd1c523722d838"
   }
  }
 },
 "nbformat": 4,
 "nbformat_minor": 2
}
