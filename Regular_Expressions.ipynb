{
 "cells": [
  {
   "cell_type": "code",
   "execution_count": 1,
   "metadata": {},
   "outputs": [],
   "source": [
    "import re\n"
   ]
  },
  {
   "cell_type": "code",
   "execution_count": 8,
   "metadata": {},
   "outputs": [
    {
     "name": "stdout",
     "output_type": "stream",
     "text": [
      "(7, 11)\n",
      "7\n",
      "11\n",
      "this\n"
     ]
    }
   ],
   "source": [
    "string = 'search this inside of this text please!'\n",
    "\n",
    "a = re.search('this', string)\n",
    "print(a.span())\n",
    "print(a.start())\n",
    "print(a.end())\n",
    "print(a.group())\n"
   ]
  },
  {
   "cell_type": "code",
   "execution_count": 13,
   "metadata": {},
   "outputs": [
    {
     "name": "stdout",
     "output_type": "stream",
     "text": [
      "<re.Match object; span=(7, 11), match='this'>\n",
      "['this', 'this']\n"
     ]
    }
   ],
   "source": [
    "\n",
    "pattern = re.compile('this')\n",
    "string = 'search this inside of this text please!'\n",
    "\n",
    "a = pattern.search(string)\n",
    "print(a)\n",
    "\n",
    "print(pattern.findall(string))"
   ]
  },
  {
   "cell_type": "code",
   "execution_count": 16,
   "metadata": {},
   "outputs": [
    {
     "name": "stdout",
     "output_type": "stream",
     "text": [
      "<re.Match object; span=(0, 39), match='search this inside of this text please!'>\n",
      "None\n"
     ]
    }
   ],
   "source": [
    "pattern = re.compile('search this inside of this text please!')\n",
    "string = 'search this inside of this text please!'\n",
    "\n",
    "print(pattern.fullmatch(string))\n",
    "\n",
    "pattern1 = re.compile('search this inside of this text please?')\n",
    "string1 = 'search this inside of this text please!'\n",
    "\n",
    "print(pattern1.fullmatch(string1))\n"
   ]
  },
  {
   "cell_type": "markdown",
   "metadata": {},
   "source": [
    "#Exercise: Password Validation"
   ]
  },
  {
   "cell_type": "code",
   "execution_count": 18,
   "metadata": {},
   "outputs": [
    {
     "name": "stdout",
     "output_type": "stream",
     "text": [
      "<re.Match object; span=(0, 9), match='adasdadad'>\n"
     ]
    }
   ],
   "source": [
    "pattern = re.compile(r\"[a-zA-Z]{8,}\")\n",
    "string = 'adasdadad'\n",
    "\n",
    "a = pattern.search(string)\n",
    "print(a)\n"
   ]
  }
 ],
 "metadata": {
  "kernelspec": {
   "display_name": "Python 3.10.4 64-bit",
   "language": "python",
   "name": "python3"
  },
  "language_info": {
   "codemirror_mode": {
    "name": "ipython",
    "version": 3
   },
   "file_extension": ".py",
   "mimetype": "text/x-python",
   "name": "python",
   "nbconvert_exporter": "python",
   "pygments_lexer": "ipython3",
   "version": "3.10.4"
  },
  "orig_nbformat": 4,
  "vscode": {
   "interpreter": {
    "hash": "5e533b1966831f5b052ea6b06787e4c23c81ebc41263419272bd1c523722d838"
   }
  }
 },
 "nbformat": 4,
 "nbformat_minor": 2
}
