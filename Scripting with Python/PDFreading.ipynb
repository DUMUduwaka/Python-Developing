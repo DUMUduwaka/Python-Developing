{
 "cells": [
  {
   "cell_type": "code",
   "execution_count": 4,
   "metadata": {},
   "outputs": [],
   "source": [
    "import PyPDF2\n"
   ]
  },
  {
   "cell_type": "code",
   "execution_count": 18,
   "metadata": {},
   "outputs": [
    {
     "name": "stdout",
     "output_type": "stream",
     "text": [
      "1\n",
      "2\n",
      "<PyPDF2._reader.PdfFileReader object at 0x000002D19047D7B0>\n",
      "{'/Type': '/Page', '/Parent': IndirectObject(3, 0, 3099092047792), '/Resources': {'/Font': {'/F1': IndirectObject(9, 0, 3099092047792)}, '/ProcSet': IndirectObject(8, 0, 3099092047792)}, '/MediaBox': [0, 0, 612, 792], '/Contents': IndirectObject(5, 0, 3099092047792), '/Rotate': 90}\n"
     ]
    }
   ],
   "source": [
    "with open('dummy.pdf', 'rb') as file:\n",
    "    reader = PyPDF2.PdfFileReader(file)\n",
    "    print(reader.numPages)\n",
    "\n",
    "with open('twopage.pdf', 'rb') as file1:\n",
    "    reader = PyPDF2.PdfFileReader(file1)\n",
    "    page = reader.getPage(0)\n",
    "    print(reader.numPages)\n",
    "    print(reader)\n",
    "    print(page.rotateClockwise(90))\n"
   ]
  },
  {
   "cell_type": "code",
   "execution_count": 23,
   "metadata": {},
   "outputs": [],
   "source": [
    "with open('dummy.pdf', 'rb') as file:\n",
    "    reader = PyPDF2.PdfFileReader(file)\n",
    "    page = reader.getPage(0)\n",
    "    page.rotateClockwise(90)\n",
    "    writer = PyPDF2.PdfFileWriter()\n",
    "    writer.addPage(page)\n",
    "    with open('rot.pdf', 'wb') as new_file:\n",
    "        writer.write(new_file)\n"
   ]
  }
 ],
 "metadata": {
  "kernelspec": {
   "display_name": "Python 3.10.4 64-bit",
   "language": "python",
   "name": "python3"
  },
  "language_info": {
   "codemirror_mode": {
    "name": "ipython",
    "version": 3
   },
   "file_extension": ".py",
   "mimetype": "text/x-python",
   "name": "python",
   "nbconvert_exporter": "python",
   "pygments_lexer": "ipython3",
   "version": "3.10.4"
  },
  "orig_nbformat": 4,
  "vscode": {
   "interpreter": {
    "hash": "5e533b1966831f5b052ea6b06787e4c23c81ebc41263419272bd1c523722d838"
   }
  }
 },
 "nbformat": 4,
 "nbformat_minor": 2
}
