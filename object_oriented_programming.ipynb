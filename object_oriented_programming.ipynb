{
 "cells": [
  {
   "cell_type": "code",
   "execution_count": 2,
   "metadata": {},
   "outputs": [
    {
     "name": "stdout",
     "output_type": "stream",
     "text": [
      "<class 'NoneType'>\n",
      "<class 'bool'>\n",
      "<class 'int'>\n",
      "<class 'float'>\n",
      "<class 'str'>\n",
      "<class 'list'>\n",
      "<class 'tuple'>\n",
      "<class 'dict'>\n"
     ]
    }
   ],
   "source": [
    "# Object Oriented Programming\n",
    "\n",
    "print(type(None))\n",
    "print(type(True))\n",
    "print(type(5))\n",
    "print(type(12.3))\n",
    "print(type('usitha'))\n",
    "print(type([]))\n",
    "print(type(()))\n",
    "print(type({}))\n"
   ]
  },
  {
   "cell_type": "code",
   "execution_count": 7,
   "metadata": {},
   "outputs": [
    {
     "name": "stdout",
     "output_type": "stream",
     "text": [
      "<class '__main__.MyFirstObject'>\n"
     ]
    }
   ],
   "source": [
    "class MyFirstObject:  # Class\n",
    "    # Code\n",
    "    pass\n",
    "\n",
    "\n",
    "obj1 = MyFirstObject()  # instanciate\n",
    "\n",
    "print(type(obj1))\n"
   ]
  },
  {
   "cell_type": "markdown",
   "metadata": {},
   "source": [
    "#Creating a Class"
   ]
  },
  {
   "cell_type": "code",
   "execution_count": 17,
   "metadata": {},
   "outputs": [
    {
     "name": "stdout",
     "output_type": "stream",
     "text": [
      "26\n",
      "usitha\n",
      "run\n"
     ]
    }
   ],
   "source": [
    "class PlayerCharacter:\n",
    "    #class object attributes : this attribute is not dynamic\n",
    "    membership = True\n",
    "    def __init__(self, name, age):\n",
    "        self.name = name #attributes : but these attributes are dynamic.\n",
    "        self.age = age\n",
    "\n",
    "    def run(self):  #methods\n",
    "        print('run')\n",
    "        return\n",
    "\n",
    "\n",
    "player1 = PlayerCharacter('usitha', 26)\n",
    "player2 = PlayerCharacter('Smith',21)\n",
    "\n",
    "print(player1.age)\n",
    "print(player1.name)\n",
    "player1.run()\n"
   ]
  },
  {
   "cell_type": "markdown",
   "metadata": {},
   "source": [
    "player1 and player2 objects are at different memory locations"
   ]
  },
  {
   "cell_type": "code",
   "execution_count": 15,
   "metadata": {},
   "outputs": [
    {
     "name": "stdout",
     "output_type": "stream",
     "text": [
      "True\n",
      "<__main__.PlayerCharacter object at 0x000001840111D390>\n"
     ]
    }
   ],
   "source": [
    "print(player1)\n",
    "print(player2)"
   ]
  },
  {
   "cell_type": "code",
   "execution_count": 16,
   "metadata": {},
   "outputs": [
    {
     "name": "stdout",
     "output_type": "stream",
     "text": [
      "True\n"
     ]
    }
   ],
   "source": [
    "print(player2.membership)"
   ]
  },
  {
   "cell_type": "code",
   "execution_count": 21,
   "metadata": {},
   "outputs": [
    {
     "name": "stdout",
     "output_type": "stream",
     "text": [
      "My name is Smith\n"
     ]
    }
   ],
   "source": [
    "class PlayerCharacter:\n",
    "    # class object attributes : this attribute is not dynamic\n",
    "    membership = True\n",
    "\n",
    "    def __init__(self, name, age):\n",
    "        if (self.membership):\n",
    "            self.name = name  # attributes : but these attributes are dynamic.\n",
    "            self.age = age\n",
    "\n",
    "    def shout(self):  # methods\n",
    "        print(f'My name is {self.name}')\n",
    "        return\n",
    "\n",
    "\n",
    "player1 = PlayerCharacter('Smith', 26)\n",
    "player1.shout()\n"
   ]
  }
 ],
 "metadata": {
  "kernelspec": {
   "display_name": "Python 3.10.4 64-bit",
   "language": "python",
   "name": "python3"
  },
  "language_info": {
   "codemirror_mode": {
    "name": "ipython",
    "version": 3
   },
   "file_extension": ".py",
   "mimetype": "text/x-python",
   "name": "python",
   "nbconvert_exporter": "python",
   "pygments_lexer": "ipython3",
   "version": "3.10.4"
  },
  "orig_nbformat": 4,
  "vscode": {
   "interpreter": {
    "hash": "5e533b1966831f5b052ea6b06787e4c23c81ebc41263419272bd1c523722d838"
   }
  }
 },
 "nbformat": 4,
 "nbformat_minor": 2
}
