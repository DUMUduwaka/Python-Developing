{
 "cells": [
  {
   "cell_type": "code",
   "execution_count": 2,
   "metadata": {},
   "outputs": [
    {
     "name": "stdout",
     "output_type": "stream",
     "text": [
      "<class 'NoneType'>\n",
      "<class 'bool'>\n",
      "<class 'int'>\n",
      "<class 'float'>\n",
      "<class 'str'>\n",
      "<class 'list'>\n",
      "<class 'tuple'>\n",
      "<class 'dict'>\n"
     ]
    }
   ],
   "source": [
    "# Object Oriented Programming\n",
    "\n",
    "print(type(None))\n",
    "print(type(True))\n",
    "print(type(5))\n",
    "print(type(12.3))\n",
    "print(type('usitha'))\n",
    "print(type([]))\n",
    "print(type(()))\n",
    "print(type({}))\n"
   ]
  },
  {
   "cell_type": "code",
   "execution_count": 7,
   "metadata": {},
   "outputs": [
    {
     "name": "stdout",
     "output_type": "stream",
     "text": [
      "<class '__main__.MyFirstObject'>\n"
     ]
    }
   ],
   "source": [
    "class MyFirstObject:  # Class\n",
    "    # Code\n",
    "    pass\n",
    "\n",
    "\n",
    "obj1 = MyFirstObject()  # instanciate\n",
    "\n",
    "print(type(obj1))\n"
   ]
  },
  {
   "cell_type": "markdown",
   "metadata": {},
   "source": [
    "#Creating a Class"
   ]
  },
  {
   "cell_type": "code",
   "execution_count": 17,
   "metadata": {},
   "outputs": [
    {
     "name": "stdout",
     "output_type": "stream",
     "text": [
      "26\n",
      "usitha\n",
      "run\n"
     ]
    }
   ],
   "source": [
    "class PlayerCharacter:\n",
    "    # class object attributes : this attribute is not dynamic\n",
    "    membership = True\n",
    "\n",
    "    def __init__(self, name, age):\n",
    "        self.name = name  # attributes : but these attributes are dynamic.\n",
    "        self.age = age\n",
    "\n",
    "    def run(self):  # methods\n",
    "        print('run')\n",
    "        return\n",
    "\n",
    "\n",
    "player1 = PlayerCharacter('usitha', 26)\n",
    "player2 = PlayerCharacter('Smith', 21)\n",
    "\n",
    "print(player1.age)\n",
    "print(player1.name)\n",
    "player1.run()\n"
   ]
  },
  {
   "cell_type": "markdown",
   "metadata": {},
   "source": [
    "player1 and player2 objects are at different memory locations"
   ]
  },
  {
   "cell_type": "code",
   "execution_count": 15,
   "metadata": {},
   "outputs": [
    {
     "name": "stdout",
     "output_type": "stream",
     "text": [
      "True\n",
      "<__main__.PlayerCharacter object at 0x000001840111D390>\n"
     ]
    }
   ],
   "source": [
    "print(player1)\n",
    "print(player2)\n"
   ]
  },
  {
   "cell_type": "code",
   "execution_count": 16,
   "metadata": {},
   "outputs": [
    {
     "name": "stdout",
     "output_type": "stream",
     "text": [
      "True\n"
     ]
    }
   ],
   "source": [
    "print(player2.membership)\n"
   ]
  },
  {
   "cell_type": "code",
   "execution_count": 47,
   "metadata": {},
   "outputs": [
    {
     "name": "stdout",
     "output_type": "stream",
     "text": [
      "My name is Smith\n",
      "Hey, I'm running.\n"
     ]
    }
   ],
   "source": [
    "class PlayerCharacter:\n",
    "    # class object attributes : this attribute is not dynamic\n",
    "    membership = True\n",
    "\n",
    "    def __init__(self, name=\"Anonymous\", age=15):\n",
    "        if (self.membership):\n",
    "            self.name = name  # attributes : but these attributes are dynamic.\n",
    "            self.age = age\n",
    "\n",
    "    def shout(self):  # methods\n",
    "        print(f'My name is {self.name}')\n",
    "        return\n",
    "\n",
    "    def run(self):  # methods\n",
    "        print('Hey, I\\'m running.')\n",
    "        return\n",
    "\n",
    "\n",
    "player1 = PlayerCharacter('Smith', 26)\n",
    "player2 = PlayerCharacter()\n",
    "player1.shout()\n",
    "player1.run()\n"
   ]
  },
  {
   "cell_type": "code",
   "execution_count": 41,
   "metadata": {},
   "outputs": [
    {
     "data": {
      "text/plain": [
       "15"
      ]
     },
     "execution_count": 41,
     "metadata": {},
     "output_type": "execute_result"
    }
   ],
   "source": [
    "player2.name\n",
    "player2.age\n"
   ]
  },
  {
   "cell_type": "code",
   "execution_count": 64,
   "metadata": {},
   "outputs": [
    {
     "name": "stdout",
     "output_type": "stream",
     "text": [
      "The oldest cat is 16 years old\n"
     ]
    }
   ],
   "source": [
    "# Given the below class:\n",
    "class Cat:\n",
    "    species = 'mammal'\n",
    "\n",
    "    def __init__(self, name, age):\n",
    "        self.name = name\n",
    "        self.age = age\n",
    "\n",
    "\n",
    "# 1 Instantiate the Cat object with 3 cats\n",
    "cat1 = Cat('ABC', 12)\n",
    "cat2 = Cat('BAC', 13)\n",
    "cat3 = Cat('CAB', 16)\n",
    "\n",
    "# 2 Create a function that finds the oldest cat\n",
    "\n",
    "\n",
    "def oldest_cat(*cat):\n",
    "    return max(cat)\n",
    "\n",
    "\n",
    "# 3 Print out: \"The oldest cat is x years old.\". x will be the oldest cat age by using the function in #2\n",
    "x = oldest_cat(cat1.age, cat2.age, cat3.age)\n",
    "print(f'The oldest cat is {x} years old')\n"
   ]
  }
 ],
 "metadata": {
  "kernelspec": {
   "display_name": "Python 3.10.4 64-bit",
   "language": "python",
   "name": "python3"
  },
  "language_info": {
   "codemirror_mode": {
    "name": "ipython",
    "version": 3
   },
   "file_extension": ".py",
   "mimetype": "text/x-python",
   "name": "python",
   "nbconvert_exporter": "python",
   "pygments_lexer": "ipython3",
   "version": "3.10.4"
  },
  "orig_nbformat": 4,
  "vscode": {
   "interpreter": {
    "hash": "5e533b1966831f5b052ea6b06787e4c23c81ebc41263419272bd1c523722d838"
   }
  }
 },
 "nbformat": 4,
 "nbformat_minor": 2
}
