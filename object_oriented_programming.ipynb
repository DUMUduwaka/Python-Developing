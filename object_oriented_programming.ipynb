{
 "cells": [
  {
   "cell_type": "code",
   "execution_count": 14,
   "metadata": {},
   "outputs": [
    {
     "name": "stdout",
     "output_type": "stream",
     "text": [
      "<class 'NoneType'>\n",
      "<class 'bool'>\n",
      "<class 'int'>\n",
      "<class 'float'>\n",
      "<class 'str'>\n",
      "<class 'list'>\n",
      "<class 'tuple'>\n",
      "<class 'dict'>\n"
     ]
    }
   ],
   "source": [
    "# Object Oriented Programming\n",
    "\n",
    "print(type(None))\n",
    "print(type(True))\n",
    "print(type(5))\n",
    "print(type(12.3))\n",
    "print(type('usitha'))\n",
    "print(type([]))\n",
    "print(type(()))\n",
    "print(type({}))\n"
   ]
  },
  {
   "cell_type": "code",
   "execution_count": 15,
   "metadata": {},
   "outputs": [
    {
     "name": "stdout",
     "output_type": "stream",
     "text": [
      "<class '__main__.MyFirstObject'>\n"
     ]
    }
   ],
   "source": [
    "class MyFirstObject:  # Class\n",
    "    # Code\n",
    "    pass\n",
    "\n",
    "\n",
    "obj1 = MyFirstObject()  # instanciate\n",
    "\n",
    "print(type(obj1))\n"
   ]
  },
  {
   "cell_type": "markdown",
   "metadata": {},
   "source": [
    "#Creating a Class"
   ]
  },
  {
   "cell_type": "code",
   "execution_count": 16,
   "metadata": {},
   "outputs": [
    {
     "name": "stdout",
     "output_type": "stream",
     "text": [
      "26\n",
      "usitha\n",
      "run\n"
     ]
    }
   ],
   "source": [
    "class PlayerCharacter:\n",
    "    # class object attributes : this attribute is not dynamic\n",
    "    membership = True\n",
    "\n",
    "    def __init__(self, name, age):\n",
    "        self.name = name  # attributes : but these attributes are dynamic.\n",
    "        self.age = age\n",
    "\n",
    "    def run(self):  # methods\n",
    "        print('run')\n",
    "        return\n",
    "\n",
    "\n",
    "player1 = PlayerCharacter('usitha', 26)\n",
    "player2 = PlayerCharacter('Smith', 21)\n",
    "\n",
    "print(player1.age)\n",
    "print(player1.name)\n",
    "player1.run()\n"
   ]
  },
  {
   "cell_type": "markdown",
   "metadata": {},
   "source": [
    "player1 and player2 objects are at different memory locations"
   ]
  },
  {
   "cell_type": "code",
   "execution_count": 17,
   "metadata": {},
   "outputs": [
    {
     "name": "stdout",
     "output_type": "stream",
     "text": [
      "<__main__.PlayerCharacter object at 0x00000218318B7E50>\n",
      "<__main__.PlayerCharacter object at 0x00000218318B44F0>\n"
     ]
    }
   ],
   "source": [
    "print(player1)\n",
    "print(player2)\n"
   ]
  },
  {
   "cell_type": "code",
   "execution_count": 18,
   "metadata": {},
   "outputs": [
    {
     "name": "stdout",
     "output_type": "stream",
     "text": [
      "True\n"
     ]
    }
   ],
   "source": [
    "print(player2.membership)\n"
   ]
  },
  {
   "cell_type": "code",
   "execution_count": 19,
   "metadata": {},
   "outputs": [
    {
     "name": "stdout",
     "output_type": "stream",
     "text": [
      "My name is Smith\n",
      "Hey, I'm running.\n"
     ]
    }
   ],
   "source": [
    "class PlayerCharacter:\n",
    "    # class object attributes : this attribute is not dynamic\n",
    "    membership = True\n",
    "\n",
    "    def __init__(self, name=\"Anonymous\", age=15):\n",
    "        if (self.membership):\n",
    "            self.name = name  # attributes : but these attributes are dynamic.\n",
    "            self.age = age\n",
    "\n",
    "    def shout(self):  # methods\n",
    "        print(f'My name is {self.name}')\n",
    "        return\n",
    "\n",
    "    def run(self):  # methods\n",
    "        print('Hey, I\\'m running.')\n",
    "        return\n",
    "\n",
    "\n",
    "player1 = PlayerCharacter('Smith', 26)\n",
    "player2 = PlayerCharacter()\n",
    "player1.shout()\n",
    "player1.run()\n"
   ]
  },
  {
   "cell_type": "code",
   "execution_count": 20,
   "metadata": {},
   "outputs": [
    {
     "data": {
      "text/plain": [
       "15"
      ]
     },
     "execution_count": 20,
     "metadata": {},
     "output_type": "execute_result"
    }
   ],
   "source": [
    "player2.name\n",
    "player2.age\n"
   ]
  },
  {
   "cell_type": "code",
   "execution_count": 21,
   "metadata": {},
   "outputs": [
    {
     "name": "stdout",
     "output_type": "stream",
     "text": [
      "The oldest cat is 16 years old\n"
     ]
    }
   ],
   "source": [
    "# Given the below class:\n",
    "class Cat:\n",
    "    species = 'mammal'\n",
    "\n",
    "    def __init__(self, name, age):\n",
    "        self.name = name\n",
    "        self.age = age\n",
    "\n",
    "\n",
    "# 1 Instantiate the Cat object with 3 cats\n",
    "cat1 = Cat('ABC', 12)\n",
    "cat2 = Cat('BAC', 13)\n",
    "cat3 = Cat('CAB', 16)\n",
    "\n",
    "# 2 Create a function that finds the oldest cat\n",
    "\n",
    "\n",
    "def oldest_cat(*cat):\n",
    "    return max(cat)\n",
    "\n",
    "\n",
    "# 3 Print out: \"The oldest cat is x years old.\". x will be the oldest cat age by using the function in #2\n",
    "x = oldest_cat(cat1.age, cat2.age, cat3.age)\n",
    "print(f'The oldest cat is {x} years old')\n"
   ]
  },
  {
   "cell_type": "markdown",
   "metadata": {},
   "source": [
    "#Class method and static method"
   ]
  },
  {
   "cell_type": "code",
   "execution_count": 79,
   "metadata": {},
   "outputs": [
    {
     "name": "stdout",
     "output_type": "stream",
     "text": [
      "mode is easy\n"
     ]
    }
   ],
   "source": [
    "class player:\n",
    "    new_player = True\n",
    "\n",
    "    def __init__(self, name, rank):\n",
    "        self.name = name\n",
    "        self.rank = rank\n",
    "\n",
    "    def play(self):\n",
    "        print('mode is easy')\n",
    "\n",
    "    # adding a class method to the created class\n",
    "    @classmethod  # this is decorator\n",
    "    def end_game(cls, score):\n",
    "        return print(f'your score is {score}')\n",
    "\n",
    "    # adding a static method to the class object. the difference is, this has no access to the parameters of the class.\n",
    "    @staticmethod\n",
    "    def end_game2(score):\n",
    "        return print(f'your score is {score*2}')\n",
    "\n",
    "\n",
    "pl1 = player('smith', 10)\n",
    "pl1.play()\n"
   ]
  },
  {
   "cell_type": "code",
   "execution_count": 80,
   "metadata": {},
   "outputs": [
    {
     "name": "stdout",
     "output_type": "stream",
     "text": [
      "your score is 23\n",
      "your score is 46\n"
     ]
    }
   ],
   "source": [
    "# this gives you expected results as end_game is a class method\n",
    "player.end_game(23)\n",
    "player.end_game2(23)\n"
   ]
  },
  {
   "cell_type": "code",
   "execution_count": 83,
   "metadata": {},
   "outputs": [
    {
     "ename": "TypeError",
     "evalue": "player.play() missing 1 required positional argument: 'self'",
     "output_type": "error",
     "traceback": [
      "\u001b[1;31m---------------------------------------------------------------------------\u001b[0m",
      "\u001b[1;31mTypeError\u001b[0m                                 Traceback (most recent call last)",
      "\u001b[1;32md:\\Code\\ZTM\\Python-Developing\\object_oriented_programming.ipynb Cell 14\u001b[0m in \u001b[0;36m<cell line: 1>\u001b[1;34m()\u001b[0m\n\u001b[1;32m----> <a href='vscode-notebook-cell:/d%3A/Code/ZTM/Python-Developing/object_oriented_programming.ipynb#ch0000013?line=0'>1</a>\u001b[0m player\u001b[39m.\u001b[39;49mplay()\n",
      "\u001b[1;31mTypeError\u001b[0m: player.play() missing 1 required positional argument: 'self'"
     ]
    }
   ],
   "source": [
    "player.play()  # in this case you get an error as this method is not a class method\n"
   ]
  },
  {
   "cell_type": "markdown",
   "metadata": {},
   "source": [
    "#Reviewing Class"
   ]
  },
  {
   "cell_type": "markdown",
   "metadata": {},
   "source": [
    "the basic structure of the class is as follows."
   ]
  },
  {
   "cell_type": "code",
   "execution_count": null,
   "metadata": {},
   "outputs": [],
   "source": [
    "class NameOfClass:\n",
    "    Class_attributes = 'value'\n",
    "\n",
    "    def __init__(self, param1, param2):\n",
    "        self.param1 = param1\n",
    "        self.param2 = param2\n",
    "\n",
    "    def method(self):\n",
    "        # code\n",
    "        pass\n",
    "\n",
    "    @classmethod\n",
    "    def cls_method(cls, param1, param2):\n",
    "        # code\n",
    "        pass\n",
    "\n",
    "    @staticmethod\n",
    "    def stc_method(param1, param2):\n",
    "        # code\n",
    "        pass\n"
   ]
  },
  {
   "cell_type": "markdown",
   "metadata": {},
   "source": [
    "#Inheritance"
   ]
  },
  {
   "cell_type": "code",
   "execution_count": null,
   "metadata": {},
   "outputs": [
    {
     "name": "stdout",
     "output_type": "stream",
     "text": [
      "Sanath Successfully logged in\n",
      "Do nothing\n",
      "Sanath is smashing the ball everywhere.\n",
      "Malinga Successfully logged in\n",
      "Malinga is bowling back to back yorkers.\n"
     ]
    },
    {
     "data": {
      "text/plain": [
       "'sanath@gmail.com'"
      ]
     },
     "execution_count": 17,
     "metadata": {},
     "output_type": "execute_result"
    }
   ],
   "source": [
    "class User():\n",
    "    def __init__(self, email):\n",
    "        self.email = email\n",
    "\n",
    "    def sign_in(self):\n",
    "        print(f'{self.name} Successfully logged in')\n",
    "\n",
    "    def attack(self):\n",
    "        print('Do nothing')\n",
    "\n",
    "\n",
    "class Batman(User):\n",
    "    def __init__(self, name, ratings, email):\n",
    "        User.__init__(self, email)  # or we can use supper() method as follows,\n",
    "        super().__init__(email)\n",
    "        self.name = name\n",
    "        self.ratings = ratings\n",
    "\n",
    "    def attack(self):\n",
    "        User.attack(self)\n",
    "        print(f'{self.name} is smashing the ball everywhere.')\n",
    "\n",
    "\n",
    "class Bowler(User):\n",
    "    def __init__(self, name, mode, email):\n",
    "        User.__init__(self, email)\n",
    "        self.name = name\n",
    "        self.mode = mode\n",
    "\n",
    "    def attack(self):\n",
    "        print(f'{self.name} is bowling back to back yorkers.')\n",
    "\n",
    "\n",
    "player1 = Batman('Sanath', 1, 'sanath@gmail.com')\n",
    "player2 = Bowler('Malinga', 'Fast', 'mali@gmail.com')\n",
    "player1.sign_in()\n",
    "player1.attack()\n",
    "\n",
    "player2.sign_in()\n",
    "player2.attack()\n",
    "\n",
    "player1.email\n",
    "# player2.email\n"
   ]
  },
  {
   "cell_type": "code",
   "execution_count": null,
   "metadata": {},
   "outputs": [
    {
     "name": "stdout",
     "output_type": "stream",
     "text": [
      "do nothing\n",
      "Sanath is smashing the ball everywhere.\n",
      "Malinga is bowling back to back yorkers.\n"
     ]
    }
   ],
   "source": [
    "for char in [player1, player2]:\n",
    "    char.attack()\n"
   ]
  },
  {
   "cell_type": "markdown",
   "metadata": {},
   "source": [
    "#Exercise"
   ]
  },
  {
   "cell_type": "code",
   "execution_count": null,
   "metadata": {},
   "outputs": [
    {
     "name": "stdout",
     "output_type": "stream",
     "text": [
      "Simon is just walking around\n",
      "Sally is just walking around\n",
      "Kitty is just walking around\n"
     ]
    }
   ],
   "source": [
    "class Pets():\n",
    "    animals = []\n",
    "\n",
    "    def __init__(self, animals):\n",
    "        self.animals = animals\n",
    "\n",
    "    def walk(self):\n",
    "        for animal in self.animals:\n",
    "            print(animal.walk())\n",
    "\n",
    "\n",
    "class Cat():\n",
    "    is_lazy = True\n",
    "\n",
    "    def __init__(self, name, age):\n",
    "        self.name = name\n",
    "        self.age = age\n",
    "\n",
    "    def walk(self):\n",
    "        return f'{self.name} is just walking around'\n",
    "\n",
    "\n",
    "class Simon(Cat):\n",
    "    def sing(self, sounds):\n",
    "        return f'{sounds}'\n",
    "\n",
    "\n",
    "class Sally(Cat):\n",
    "    def sing(self, sounds):\n",
    "        return f'{sounds}'\n",
    "\n",
    "# 1 Add another Cat\n",
    "\n",
    "\n",
    "class Kitty(Cat):\n",
    "    def sing(self, sounds):\n",
    "        return f'{sounds}'\n",
    "\n",
    "\n",
    "# 2 Create a list of all of the pets (create 3 cat instances from the above)\n",
    "my_cats = [Simon('Simon', 4),\n",
    "           Sally('Sally', 5),\n",
    "           Kitty('Kitty', 5)]\n",
    "\n",
    "# 3 Instantiate the Pet class with all your cats use variable my_pets\n",
    "my_pets = Pets(my_cats)\n",
    "\n",
    "# 4 Output all of the cats walking using the my_pets instance\n",
    "my_pets.walk()\n"
   ]
  },
  {
   "cell_type": "code",
   "execution_count": null,
   "metadata": {},
   "outputs": [
    {
     "data": {
      "text/plain": [
       "['Simon', 'Sally', 'Kitty']"
      ]
     },
     "execution_count": 39,
     "metadata": {},
     "output_type": "execute_result"
    }
   ],
   "source": [
    "my_cats\n"
   ]
  },
  {
   "cell_type": "markdown",
   "metadata": {},
   "source": [
    "#Introspection"
   ]
  },
  {
   "cell_type": "markdown",
   "metadata": {},
   "source": [
    "Introspection means the ability to determine the type of an object at run time"
   ]
  },
  {
   "cell_type": "code",
   "execution_count": 26,
   "metadata": {},
   "outputs": [
    {
     "data": {
      "text/plain": [
       "['__class__',\n",
       " '__delattr__',\n",
       " '__dict__',\n",
       " '__dir__',\n",
       " '__doc__',\n",
       " '__eq__',\n",
       " '__format__',\n",
       " '__ge__',\n",
       " '__getattribute__',\n",
       " '__gt__',\n",
       " '__hash__',\n",
       " '__init__',\n",
       " '__init_subclass__',\n",
       " '__le__',\n",
       " '__lt__',\n",
       " '__module__',\n",
       " '__ne__',\n",
       " '__new__',\n",
       " '__reduce__',\n",
       " '__reduce_ex__',\n",
       " '__repr__',\n",
       " '__setattr__',\n",
       " '__sizeof__',\n",
       " '__str__',\n",
       " '__subclasshook__',\n",
       " '__weakref__',\n",
       " 'age',\n",
       " 'membership',\n",
       " 'name',\n",
       " 'run',\n",
       " 'shout']"
      ]
     },
     "execution_count": 26,
     "metadata": {},
     "output_type": "execute_result"
    }
   ],
   "source": [
    "dir(player1)\n"
   ]
  },
  {
   "cell_type": "markdown",
   "metadata": {},
   "source": [
    "#Dunder Methods"
   ]
  },
  {
   "cell_type": "code",
   "execution_count": 28,
   "metadata": {},
   "outputs": [],
   "source": [
    "class Toy():\n",
    "    def __init__(self, color, age):\n",
    "        self.color = color\n",
    "        self.age = age\n",
    "\n",
    "\n",
    "action_figure = Toy('red', 12)\n"
   ]
  },
  {
   "cell_type": "code",
   "execution_count": 31,
   "metadata": {},
   "outputs": [
    {
     "name": "stdout",
     "output_type": "stream",
     "text": [
      "<__main__.Toy object at 0x00000218319CDC60>\n",
      "<__main__.Toy object at 0x00000218319CDC60>\n"
     ]
    }
   ],
   "source": [
    "print(action_figure.__str__())\n",
    "print(str(action_figure))\n"
   ]
  },
  {
   "cell_type": "markdown",
   "metadata": {},
   "source": [
    "As well as we can modify Dunder methods"
   ]
  },
  {
   "cell_type": "code",
   "execution_count": 40,
   "metadata": {},
   "outputs": [
    {
     "name": "stdout",
     "output_type": "stream",
     "text": [
      "red\n",
      "red\n",
      "5\n"
     ]
    }
   ],
   "source": [
    "class Toy():\n",
    "    def __init__(self, color, age):\n",
    "        self.color = color\n",
    "        self.age = age\n",
    "        self.my_dict = {\n",
    "            'Name': 'Usi',\n",
    "            'has_pets': True\n",
    "        }\n",
    "\n",
    "    def __str__(self):\n",
    "        return f'{self.color}'\n",
    "\n",
    "    def __len__(self):\n",
    "        return 5\n",
    "\n",
    "    def __call__(self):\n",
    "        return ('Yess')\n",
    "\n",
    "    def __getitem__(self, i):\n",
    "        return self.my_dict[i]\n",
    "\n",
    "\n",
    "action_figure = Toy('red', 12)\n",
    "print(action_figure.__str__())\n",
    "print(str(action_figure))\n",
    "print(len(action_figure))\n"
   ]
  },
  {
   "cell_type": "code",
   "execution_count": 41,
   "metadata": {},
   "outputs": [
    {
     "data": {
      "text/plain": [
       "'Yess'"
      ]
     },
     "execution_count": 41,
     "metadata": {},
     "output_type": "execute_result"
    }
   ],
   "source": [
    "action_figure()  # call Dunder method\n"
   ]
  },
  {
   "cell_type": "code",
   "execution_count": 44,
   "metadata": {},
   "outputs": [
    {
     "data": {
      "text/plain": [
       "'Usi'"
      ]
     },
     "execution_count": 44,
     "metadata": {},
     "output_type": "execute_result"
    }
   ],
   "source": [
    "action_figure['Name']\n"
   ]
  },
  {
   "cell_type": "code",
   "execution_count": 73,
   "metadata": {},
   "outputs": [],
   "source": [
    "class SuperList(list):  # here we use inheritance to get access the options given in the lists\n",
    "    def __len__(self):\n",
    "        return 1000\n",
    "\n",
    "\n",
    "super_list1 = SuperList()\n"
   ]
  },
  {
   "cell_type": "code",
   "execution_count": 74,
   "metadata": {},
   "outputs": [
    {
     "data": {
      "text/plain": [
       "1000"
      ]
     },
     "execution_count": 74,
     "metadata": {},
     "output_type": "execute_result"
    }
   ],
   "source": [
    "len(super_list1)\n"
   ]
  },
  {
   "cell_type": "code",
   "execution_count": 75,
   "metadata": {},
   "outputs": [
    {
     "data": {
      "text/plain": [
       "5"
      ]
     },
     "execution_count": 75,
     "metadata": {},
     "output_type": "execute_result"
    }
   ],
   "source": [
    "super_list1.append(5)\n",
    "super_list1[0]\n"
   ]
  },
  {
   "cell_type": "markdown",
   "metadata": {},
   "source": [
    "Now SuperList has become a sub class of list"
   ]
  },
  {
   "cell_type": "code",
   "execution_count": 76,
   "metadata": {},
   "outputs": [
    {
     "data": {
      "text/plain": [
       "True"
      ]
     },
     "execution_count": 76,
     "metadata": {},
     "output_type": "execute_result"
    }
   ],
   "source": [
    "issubclass(SuperList, list)\n"
   ]
  },
  {
   "cell_type": "markdown",
   "metadata": {},
   "source": [
    "#Multiple Inheritance"
   ]
  },
  {
   "cell_type": "code",
   "execution_count": 95,
   "metadata": {},
   "outputs": [
    {
     "name": "stdout",
     "output_type": "stream",
     "text": [
      "Mathews is smashing the ball everywhere.\n",
      "Mathews is bowling back to back yorkers.\n",
      "None\n",
      "Mathews Successfully logged in\n",
      "None\n"
     ]
    }
   ],
   "source": [
    "class User():\n",
    "    def sign_in(self):\n",
    "        print(f'{self.name} Successfully logged in')\n",
    "\n",
    "\n",
    "class Batman(User):\n",
    "    def __init__(self, name, ratings):\n",
    "        self.name = name\n",
    "        self.ratings = ratings\n",
    "\n",
    "    def attack(self):\n",
    "        print(f'{self.name} is smashing the ball everywhere.')\n",
    "\n",
    "\n",
    "class Bowler(User):\n",
    "    def __init__(self, name, mode):\n",
    "        self.name = name\n",
    "        self.mode = mode\n",
    "\n",
    "    def bowling(self):\n",
    "        print(f'{self.name} is bowling back to back yorkers.')\n",
    "\n",
    "\n",
    "class AllRounder(Batman, Bowler):\n",
    "    def __init__(self, name, ratings, mode):\n",
    "        Batman.__init__(self, name, ratings)\n",
    "        Bowler.__init__(self, name, mode)\n",
    "\n",
    "\n",
    "all_rounder1 = AllRounder('Mathews', 8, 'medium fast')\n",
    "all_rounder1.attack()\n",
    "print(all_rounder1.bowling())\n",
    "print(all_rounder1.sign_in())\n"
   ]
  },
  {
   "cell_type": "markdown",
   "metadata": {},
   "source": [
    "#MRO - Method Resolution Order"
   ]
  },
  {
   "cell_type": "code",
   "execution_count": 98,
   "metadata": {},
   "outputs": [
    {
     "data": {
      "text/plain": [
       "[__main__.D, __main__.B, __main__.C, __main__.A, object]"
      ]
     },
     "execution_count": 98,
     "metadata": {},
     "output_type": "execute_result"
    }
   ],
   "source": [
    "class A:\n",
    "    num = 10\n",
    "\n",
    "\n",
    "class B(A):\n",
    "    pass\n",
    "\n",
    "\n",
    "class C(A):\n",
    "    num = 1\n",
    "\n",
    "\n",
    "class D(B, C):\n",
    "    pass\n",
    "\n",
    "D.mro()"
   ]
  },
  {
   "cell_type": "code",
   "execution_count": 103,
   "metadata": {},
   "outputs": [
    {
     "data": {
      "text/plain": [
       "(__main__.M,\n",
       " __main__.B,\n",
       " __main__.A,\n",
       " __main__.X,\n",
       " __main__.Y,\n",
       " __main__.Z,\n",
       " object)"
      ]
     },
     "execution_count": 103,
     "metadata": {},
     "output_type": "execute_result"
    }
   ],
   "source": [
    "class X:\n",
    "    pass\n",
    "\n",
    "\n",
    "class Y:\n",
    "    pass\n",
    "\n",
    "\n",
    "class Z:\n",
    "    pass\n",
    "\n",
    "\n",
    "class A(X, Y):\n",
    "    pass\n",
    "\n",
    "\n",
    "class B(Y, Z):\n",
    "    pass\n",
    "\n",
    "\n",
    "class M(B, A, Z):\n",
    "    pass\n",
    "\n",
    "\n",
    "# M.mro()\n",
    "M.__mro__\n"
   ]
  }
 ],
 "metadata": {
  "kernelspec": {
   "display_name": "Python 3.10.4 64-bit",
   "language": "python",
   "name": "python3"
  },
  "language_info": {
   "codemirror_mode": {
    "name": "ipython",
    "version": 3
   },
   "file_extension": ".py",
   "mimetype": "text/x-python",
   "name": "python",
   "nbconvert_exporter": "python",
   "pygments_lexer": "ipython3",
   "version": "3.10.4"
  },
  "orig_nbformat": 4,
  "vscode": {
   "interpreter": {
    "hash": "5e533b1966831f5b052ea6b06787e4c23c81ebc41263419272bd1c523722d838"
   }
  }
 },
 "nbformat": 4,
 "nbformat_minor": 2
}
